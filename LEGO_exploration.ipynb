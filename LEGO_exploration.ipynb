{
 "cells": [
  {
   "cell_type": "code",
   "execution_count": 51,
   "metadata": {
    "ExecuteTime": {
     "end_time": "2020-02-09T14:45:57.288940Z",
     "start_time": "2020-02-09T14:45:57.283982Z"
    }
   },
   "outputs": [],
   "source": [
    "import os\n",
    "import glob\n",
    "import datetime as dt\n",
    "import dateutil as du\n",
    "import pandas as pd\n",
    "import matplotlib.pyplot as plt"
   ]
  },
  {
   "cell_type": "code",
   "execution_count": 4,
   "metadata": {
    "ExecuteTime": {
     "end_time": "2020-02-09T13:55:18.775686Z",
     "start_time": "2020-02-09T13:55:18.771873Z"
    }
   },
   "outputs": [],
   "source": [
    "local_path = './data/'"
   ]
  },
  {
   "cell_type": "markdown",
   "metadata": {},
   "source": [
    "# LEGO fan OK ! but i'm only interested with BIG Space sets\n",
    "By now, we will explore the LEGO datasets in order to select only the data related to our interest. \n",
    "\n",
    "Firstly, we will load the LEGO Themes CSV file to get an idea"
   ]
  },
  {
   "cell_type": "markdown",
   "metadata": {},
   "source": [
    "## LEGO Themes"
   ]
  },
  {
   "cell_type": "code",
   "execution_count": 5,
   "metadata": {
    "ExecuteTime": {
     "end_time": "2020-02-09T13:55:57.651971Z",
     "start_time": "2020-02-09T13:55:57.630260Z"
    }
   },
   "outputs": [],
   "source": [
    "lego_themes = pd.read_csv(os.path.join(local_path, 'lego_themes.csv'), index_col='id')"
   ]
  },
  {
   "cell_type": "code",
   "execution_count": 6,
   "metadata": {
    "ExecuteTime": {
     "end_time": "2020-02-09T13:55:58.620381Z",
     "start_time": "2020-02-09T13:55:58.594765Z"
    }
   },
   "outputs": [
    {
     "data": {
      "text/html": [
       "<div>\n",
       "<style scoped>\n",
       "    .dataframe tbody tr th:only-of-type {\n",
       "        vertical-align: middle;\n",
       "    }\n",
       "\n",
       "    .dataframe tbody tr th {\n",
       "        vertical-align: top;\n",
       "    }\n",
       "\n",
       "    .dataframe thead th {\n",
       "        text-align: right;\n",
       "    }\n",
       "</style>\n",
       "<table border=\"1\" class=\"dataframe\">\n",
       "  <thead>\n",
       "    <tr style=\"text-align: right;\">\n",
       "      <th></th>\n",
       "      <th>name</th>\n",
       "      <th>parent_id</th>\n",
       "    </tr>\n",
       "    <tr>\n",
       "      <th>id</th>\n",
       "      <th></th>\n",
       "      <th></th>\n",
       "    </tr>\n",
       "  </thead>\n",
       "  <tbody>\n",
       "    <tr>\n",
       "      <th>1</th>\n",
       "      <td>Technic</td>\n",
       "      <td>NaN</td>\n",
       "    </tr>\n",
       "    <tr>\n",
       "      <th>2</th>\n",
       "      <td>Arctic Technic</td>\n",
       "      <td>1.0</td>\n",
       "    </tr>\n",
       "    <tr>\n",
       "      <th>3</th>\n",
       "      <td>Competition</td>\n",
       "      <td>1.0</td>\n",
       "    </tr>\n",
       "    <tr>\n",
       "      <th>4</th>\n",
       "      <td>Expert Builder</td>\n",
       "      <td>1.0</td>\n",
       "    </tr>\n",
       "    <tr>\n",
       "      <th>5</th>\n",
       "      <td>Model</td>\n",
       "      <td>1.0</td>\n",
       "    </tr>\n",
       "  </tbody>\n",
       "</table>\n",
       "</div>"
      ],
      "text/plain": [
       "              name  parent_id\n",
       "id                           \n",
       "1          Technic        NaN\n",
       "2   Arctic Technic        1.0\n",
       "3      Competition        1.0\n",
       "4   Expert Builder        1.0\n",
       "5            Model        1.0"
      ]
     },
     "execution_count": 6,
     "metadata": {},
     "output_type": "execute_result"
    }
   ],
   "source": [
    "lego_themes.head()"
   ]
  },
  {
   "cell_type": "code",
   "execution_count": 7,
   "metadata": {
    "ExecuteTime": {
     "end_time": "2020-02-09T13:56:06.292816Z",
     "start_time": "2020-02-09T13:56:06.285661Z"
    }
   },
   "outputs": [],
   "source": [
    "space_themes = lego_themes[lego_themes['name'].str.contains('Space')]"
   ]
  },
  {
   "cell_type": "code",
   "execution_count": 8,
   "metadata": {
    "ExecuteTime": {
     "end_time": "2020-02-09T13:56:06.663520Z",
     "start_time": "2020-02-09T13:56:06.650942Z"
    }
   },
   "outputs": [
    {
     "data": {
      "text/html": [
       "<div>\n",
       "<style scoped>\n",
       "    .dataframe tbody tr th:only-of-type {\n",
       "        vertical-align: middle;\n",
       "    }\n",
       "\n",
       "    .dataframe tbody tr th {\n",
       "        vertical-align: top;\n",
       "    }\n",
       "\n",
       "    .dataframe thead th {\n",
       "        text-align: right;\n",
       "    }\n",
       "</style>\n",
       "<table border=\"1\" class=\"dataframe\">\n",
       "  <thead>\n",
       "    <tr style=\"text-align: right;\">\n",
       "      <th></th>\n",
       "      <th>name</th>\n",
       "      <th>parent_id</th>\n",
       "    </tr>\n",
       "    <tr>\n",
       "      <th>id</th>\n",
       "      <th></th>\n",
       "      <th></th>\n",
       "    </tr>\n",
       "  </thead>\n",
       "  <tbody>\n",
       "    <tr>\n",
       "      <th>93</th>\n",
       "      <td>Space Port</td>\n",
       "      <td>50.0</td>\n",
       "    </tr>\n",
       "    <tr>\n",
       "      <th>126</th>\n",
       "      <td>Space</td>\n",
       "      <td>NaN</td>\n",
       "    </tr>\n",
       "    <tr>\n",
       "      <th>130</th>\n",
       "      <td>Classic Space</td>\n",
       "      <td>126.0</td>\n",
       "    </tr>\n",
       "    <tr>\n",
       "      <th>139</th>\n",
       "      <td>Space Police I</td>\n",
       "      <td>126.0</td>\n",
       "    </tr>\n",
       "    <tr>\n",
       "      <th>140</th>\n",
       "      <td>Space Police II</td>\n",
       "      <td>126.0</td>\n",
       "    </tr>\n",
       "    <tr>\n",
       "      <th>141</th>\n",
       "      <td>Space Police III</td>\n",
       "      <td>126.0</td>\n",
       "    </tr>\n",
       "    <tr>\n",
       "      <th>422</th>\n",
       "      <td>Space</td>\n",
       "      <td>411.0</td>\n",
       "    </tr>\n",
       "    <tr>\n",
       "      <th>452</th>\n",
       "      <td>Space</td>\n",
       "      <td>443.0</td>\n",
       "    </tr>\n",
       "    <tr>\n",
       "      <th>527</th>\n",
       "      <td>Space</td>\n",
       "      <td>507.0</td>\n",
       "    </tr>\n",
       "  </tbody>\n",
       "</table>\n",
       "</div>"
      ],
      "text/plain": [
       "                 name  parent_id\n",
       "id                              \n",
       "93         Space Port       50.0\n",
       "126             Space        NaN\n",
       "130     Classic Space      126.0\n",
       "139    Space Police I      126.0\n",
       "140   Space Police II      126.0\n",
       "141  Space Police III      126.0\n",
       "422             Space      411.0\n",
       "452             Space      443.0\n",
       "527             Space      507.0"
      ]
     },
     "execution_count": 8,
     "metadata": {},
     "output_type": "execute_result"
    }
   ],
   "source": [
    "space_themes"
   ]
  },
  {
   "cell_type": "code",
   "execution_count": 9,
   "metadata": {
    "ExecuteTime": {
     "end_time": "2020-02-09T13:56:13.471897Z",
     "start_time": "2020-02-09T13:56:13.467910Z"
    }
   },
   "outputs": [],
   "source": [
    "space_ids = space_themes.index"
   ]
  },
  {
   "cell_type": "markdown",
   "metadata": {},
   "source": [
    "Now we have Space related stuff and we will filter the `sets` dataset !"
   ]
  },
  {
   "cell_type": "markdown",
   "metadata": {},
   "source": [
    "## LEGO Sets\n",
    "We will load and extract sets with related Theme *Space*"
   ]
  },
  {
   "cell_type": "code",
   "execution_count": 10,
   "metadata": {
    "ExecuteTime": {
     "end_time": "2020-02-09T13:56:45.290483Z",
     "start_time": "2020-02-09T13:56:45.229336Z"
    }
   },
   "outputs": [],
   "source": [
    "lego_sets = pd.read_csv(os.path.join(local_path, 'lego_sets.csv'))"
   ]
  },
  {
   "cell_type": "code",
   "execution_count": 11,
   "metadata": {
    "ExecuteTime": {
     "end_time": "2020-02-09T13:56:46.147157Z",
     "start_time": "2020-02-09T13:56:46.131482Z"
    }
   },
   "outputs": [
    {
     "data": {
      "text/html": [
       "<div>\n",
       "<style scoped>\n",
       "    .dataframe tbody tr th:only-of-type {\n",
       "        vertical-align: middle;\n",
       "    }\n",
       "\n",
       "    .dataframe tbody tr th {\n",
       "        vertical-align: top;\n",
       "    }\n",
       "\n",
       "    .dataframe thead th {\n",
       "        text-align: right;\n",
       "    }\n",
       "</style>\n",
       "<table border=\"1\" class=\"dataframe\">\n",
       "  <thead>\n",
       "    <tr style=\"text-align: right;\">\n",
       "      <th></th>\n",
       "      <th>set_num</th>\n",
       "      <th>name</th>\n",
       "      <th>year</th>\n",
       "      <th>theme_id</th>\n",
       "      <th>num_parts</th>\n",
       "    </tr>\n",
       "  </thead>\n",
       "  <tbody>\n",
       "    <tr>\n",
       "      <th>0</th>\n",
       "      <td>001-1</td>\n",
       "      <td>Gears</td>\n",
       "      <td>1965</td>\n",
       "      <td>1</td>\n",
       "      <td>43</td>\n",
       "    </tr>\n",
       "    <tr>\n",
       "      <th>1</th>\n",
       "      <td>0011-2</td>\n",
       "      <td>Town Mini-Figures</td>\n",
       "      <td>1978</td>\n",
       "      <td>84</td>\n",
       "      <td>12</td>\n",
       "    </tr>\n",
       "    <tr>\n",
       "      <th>2</th>\n",
       "      <td>0011-3</td>\n",
       "      <td>Castle 2 for 1 Bonus Offer</td>\n",
       "      <td>1987</td>\n",
       "      <td>199</td>\n",
       "      <td>2</td>\n",
       "    </tr>\n",
       "    <tr>\n",
       "      <th>3</th>\n",
       "      <td>0012-1</td>\n",
       "      <td>Space Mini-Figures</td>\n",
       "      <td>1979</td>\n",
       "      <td>143</td>\n",
       "      <td>12</td>\n",
       "    </tr>\n",
       "    <tr>\n",
       "      <th>4</th>\n",
       "      <td>0013-1</td>\n",
       "      <td>Space Mini-Figures</td>\n",
       "      <td>1979</td>\n",
       "      <td>143</td>\n",
       "      <td>12</td>\n",
       "    </tr>\n",
       "  </tbody>\n",
       "</table>\n",
       "</div>"
      ],
      "text/plain": [
       "  set_num                        name  year  theme_id  num_parts\n",
       "0   001-1                       Gears  1965         1         43\n",
       "1  0011-2           Town Mini-Figures  1978        84         12\n",
       "2  0011-3  Castle 2 for 1 Bonus Offer  1987       199          2\n",
       "3  0012-1          Space Mini-Figures  1979       143         12\n",
       "4  0013-1          Space Mini-Figures  1979       143         12"
      ]
     },
     "execution_count": 11,
     "metadata": {},
     "output_type": "execute_result"
    }
   ],
   "source": [
    "lego_sets.head()"
   ]
  },
  {
   "cell_type": "code",
   "execution_count": 12,
   "metadata": {
    "ExecuteTime": {
     "end_time": "2020-02-09T13:56:47.969957Z",
     "start_time": "2020-02-09T13:56:47.963289Z"
    }
   },
   "outputs": [],
   "source": [
    "space_sets = lego_sets[lego_sets['theme_id'].isin(space_ids)]"
   ]
  },
  {
   "cell_type": "code",
   "execution_count": 13,
   "metadata": {
    "ExecuteTime": {
     "end_time": "2020-02-09T13:56:50.429299Z",
     "start_time": "2020-02-09T13:56:50.412939Z"
    }
   },
   "outputs": [
    {
     "data": {
      "text/html": [
       "<div>\n",
       "<style scoped>\n",
       "    .dataframe tbody tr th:only-of-type {\n",
       "        vertical-align: middle;\n",
       "    }\n",
       "\n",
       "    .dataframe tbody tr th {\n",
       "        vertical-align: top;\n",
       "    }\n",
       "\n",
       "    .dataframe thead th {\n",
       "        text-align: right;\n",
       "    }\n",
       "</style>\n",
       "<table border=\"1\" class=\"dataframe\">\n",
       "  <thead>\n",
       "    <tr style=\"text-align: right;\">\n",
       "      <th></th>\n",
       "      <th>set_num</th>\n",
       "      <th>name</th>\n",
       "      <th>year</th>\n",
       "      <th>theme_id</th>\n",
       "      <th>num_parts</th>\n",
       "    </tr>\n",
       "  </thead>\n",
       "  <tbody>\n",
       "    <tr>\n",
       "      <th>813</th>\n",
       "      <td>1180-1</td>\n",
       "      <td>Space Port Moon Buggy</td>\n",
       "      <td>1999</td>\n",
       "      <td>93</td>\n",
       "      <td>25</td>\n",
       "    </tr>\n",
       "    <tr>\n",
       "      <th>815</th>\n",
       "      <td>1181-1</td>\n",
       "      <td>Space Port Spacecraft</td>\n",
       "      <td>1999</td>\n",
       "      <td>93</td>\n",
       "      <td>23</td>\n",
       "    </tr>\n",
       "    <tr>\n",
       "      <th>832</th>\n",
       "      <td>11910-1</td>\n",
       "      <td>Micro-Scale Space Cruiser</td>\n",
       "      <td>2015</td>\n",
       "      <td>126</td>\n",
       "      <td>102</td>\n",
       "    </tr>\n",
       "    <tr>\n",
       "      <th>869</th>\n",
       "      <td>12-1</td>\n",
       "      <td>Blue Space Elements</td>\n",
       "      <td>1981</td>\n",
       "      <td>452</td>\n",
       "      <td>8</td>\n",
       "    </tr>\n",
       "    <tr>\n",
       "      <th>877</th>\n",
       "      <td>1213-1</td>\n",
       "      <td>Space Radar Disks</td>\n",
       "      <td>1982</td>\n",
       "      <td>452</td>\n",
       "      <td>5</td>\n",
       "    </tr>\n",
       "  </tbody>\n",
       "</table>\n",
       "</div>"
      ],
      "text/plain": [
       "     set_num                       name  year  theme_id  num_parts\n",
       "813   1180-1      Space Port Moon Buggy  1999        93         25\n",
       "815   1181-1      Space Port Spacecraft  1999        93         23\n",
       "832  11910-1  Micro-Scale Space Cruiser  2015       126        102\n",
       "869     12-1        Blue Space Elements  1981       452          8\n",
       "877   1213-1          Space Radar Disks  1982       452          5"
      ]
     },
     "execution_count": 13,
     "metadata": {},
     "output_type": "execute_result"
    }
   ],
   "source": [
    "space_sets.head()"
   ]
  },
  {
   "cell_type": "markdown",
   "metadata": {},
   "source": [
    "Now, let's pick the sets that were released in my childhood !\n",
    "I was born in 1984, got my first LEGO set at 3 and bought many till 1998."
   ]
  },
  {
   "cell_type": "code",
   "execution_count": 15,
   "metadata": {
    "ExecuteTime": {
     "end_time": "2020-02-09T13:57:15.466775Z",
     "start_time": "2020-02-09T13:57:15.458677Z"
    }
   },
   "outputs": [],
   "source": [
    "childhood_sets = space_sets[(space_sets['year'] >= 1987) & (space_sets['year'] <= 1998)]"
   ]
  },
  {
   "cell_type": "code",
   "execution_count": 16,
   "metadata": {
    "ExecuteTime": {
     "end_time": "2020-02-09T13:57:18.187918Z",
     "start_time": "2020-02-09T13:57:18.172576Z"
    }
   },
   "outputs": [
    {
     "data": {
      "text/html": [
       "<div>\n",
       "<style scoped>\n",
       "    .dataframe tbody tr th:only-of-type {\n",
       "        vertical-align: middle;\n",
       "    }\n",
       "\n",
       "    .dataframe tbody tr th {\n",
       "        vertical-align: top;\n",
       "    }\n",
       "\n",
       "    .dataframe thead th {\n",
       "        text-align: right;\n",
       "    }\n",
       "</style>\n",
       "<table border=\"1\" class=\"dataframe\">\n",
       "  <thead>\n",
       "    <tr style=\"text-align: right;\">\n",
       "      <th></th>\n",
       "      <th>set_num</th>\n",
       "      <th>name</th>\n",
       "      <th>year</th>\n",
       "      <th>theme_id</th>\n",
       "      <th>num_parts</th>\n",
       "    </tr>\n",
       "  </thead>\n",
       "  <tbody>\n",
       "    <tr>\n",
       "      <th>1195</th>\n",
       "      <td>1498-1</td>\n",
       "      <td>Spy-Bot</td>\n",
       "      <td>1987</td>\n",
       "      <td>130</td>\n",
       "      <td>63</td>\n",
       "    </tr>\n",
       "    <tr>\n",
       "      <th>1196</th>\n",
       "      <td>1499-1</td>\n",
       "      <td>Twin Starfire</td>\n",
       "      <td>1987</td>\n",
       "      <td>130</td>\n",
       "      <td>89</td>\n",
       "    </tr>\n",
       "    <tr>\n",
       "      <th>1206</th>\n",
       "      <td>1510-1</td>\n",
       "      <td>Space Value Pack</td>\n",
       "      <td>1987</td>\n",
       "      <td>130</td>\n",
       "      <td>2</td>\n",
       "    </tr>\n",
       "    <tr>\n",
       "      <th>1461</th>\n",
       "      <td>1785-1</td>\n",
       "      <td>Introducing Crater Critters</td>\n",
       "      <td>1995</td>\n",
       "      <td>126</td>\n",
       "      <td>146</td>\n",
       "    </tr>\n",
       "    <tr>\n",
       "      <th>1511</th>\n",
       "      <td>1843-1</td>\n",
       "      <td>Space/Castle Value Pack</td>\n",
       "      <td>1996</td>\n",
       "      <td>126</td>\n",
       "      <td>2</td>\n",
       "    </tr>\n",
       "  </tbody>\n",
       "</table>\n",
       "</div>"
      ],
      "text/plain": [
       "     set_num                         name  year  theme_id  num_parts\n",
       "1195  1498-1                      Spy-Bot  1987       130         63\n",
       "1196  1499-1                Twin Starfire  1987       130         89\n",
       "1206  1510-1             Space Value Pack  1987       130          2\n",
       "1461  1785-1  Introducing Crater Critters  1995       126        146\n",
       "1511  1843-1      Space/Castle Value Pack  1996       126          2"
      ]
     },
     "execution_count": 16,
     "metadata": {},
     "output_type": "execute_result"
    }
   ],
   "source": [
    "childhood_sets.head()"
   ]
  },
  {
   "cell_type": "markdown",
   "metadata": {},
   "source": [
    "Some statistics about those sets :"
   ]
  },
  {
   "cell_type": "code",
   "execution_count": 17,
   "metadata": {
    "ExecuteTime": {
     "end_time": "2020-02-09T13:57:25.263080Z",
     "start_time": "2020-02-09T13:57:25.249931Z"
    }
   },
   "outputs": [
    {
     "data": {
      "text/plain": [
       "count     32.000000\n",
       "mean     122.687500\n",
       "std      148.144314\n",
       "min        2.000000\n",
       "25%       26.750000\n",
       "50%       48.500000\n",
       "75%      147.500000\n",
       "max      559.000000\n",
       "Name: num_parts, dtype: float64"
      ]
     },
     "execution_count": 17,
     "metadata": {},
     "output_type": "execute_result"
    }
   ],
   "source": [
    "childhood_sets['num_parts'].describe()"
   ]
  },
  {
   "cell_type": "code",
   "execution_count": 18,
   "metadata": {
    "ExecuteTime": {
     "end_time": "2020-02-09T13:57:31.832373Z",
     "start_time": "2020-02-09T13:57:31.759221Z"
    }
   },
   "outputs": [
    {
     "data": {
      "text/html": [
       "<div>\n",
       "<style scoped>\n",
       "    .dataframe tbody tr th:only-of-type {\n",
       "        vertical-align: middle;\n",
       "    }\n",
       "\n",
       "    .dataframe tbody tr th {\n",
       "        vertical-align: top;\n",
       "    }\n",
       "\n",
       "    .dataframe thead th {\n",
       "        text-align: right;\n",
       "    }\n",
       "</style>\n",
       "<table border=\"1\" class=\"dataframe\">\n",
       "  <thead>\n",
       "    <tr style=\"text-align: right;\">\n",
       "      <th></th>\n",
       "      <th>count</th>\n",
       "      <th>mean</th>\n",
       "      <th>std</th>\n",
       "      <th>min</th>\n",
       "      <th>25%</th>\n",
       "      <th>50%</th>\n",
       "      <th>75%</th>\n",
       "      <th>max</th>\n",
       "    </tr>\n",
       "    <tr>\n",
       "      <th>year</th>\n",
       "      <th></th>\n",
       "      <th></th>\n",
       "      <th></th>\n",
       "      <th></th>\n",
       "      <th></th>\n",
       "      <th></th>\n",
       "      <th></th>\n",
       "      <th></th>\n",
       "    </tr>\n",
       "  </thead>\n",
       "  <tbody>\n",
       "    <tr>\n",
       "      <th>1987</th>\n",
       "      <td>10.0</td>\n",
       "      <td>80.900000</td>\n",
       "      <td>113.401401</td>\n",
       "      <td>2.0</td>\n",
       "      <td>26.75</td>\n",
       "      <td>41.0</td>\n",
       "      <td>82.50</td>\n",
       "      <td>390.0</td>\n",
       "    </tr>\n",
       "    <tr>\n",
       "      <th>1988</th>\n",
       "      <td>1.0</td>\n",
       "      <td>37.000000</td>\n",
       "      <td>NaN</td>\n",
       "      <td>37.0</td>\n",
       "      <td>37.00</td>\n",
       "      <td>37.0</td>\n",
       "      <td>37.00</td>\n",
       "      <td>37.0</td>\n",
       "    </tr>\n",
       "    <tr>\n",
       "      <th>1989</th>\n",
       "      <td>6.0</td>\n",
       "      <td>211.166667</td>\n",
       "      <td>152.473495</td>\n",
       "      <td>34.0</td>\n",
       "      <td>128.75</td>\n",
       "      <td>191.0</td>\n",
       "      <td>246.50</td>\n",
       "      <td>478.0</td>\n",
       "    </tr>\n",
       "    <tr>\n",
       "      <th>1990</th>\n",
       "      <td>1.0</td>\n",
       "      <td>559.000000</td>\n",
       "      <td>NaN</td>\n",
       "      <td>559.0</td>\n",
       "      <td>559.00</td>\n",
       "      <td>559.0</td>\n",
       "      <td>559.00</td>\n",
       "      <td>559.0</td>\n",
       "    </tr>\n",
       "    <tr>\n",
       "      <th>1991</th>\n",
       "      <td>1.0</td>\n",
       "      <td>50.000000</td>\n",
       "      <td>NaN</td>\n",
       "      <td>50.0</td>\n",
       "      <td>50.00</td>\n",
       "      <td>50.0</td>\n",
       "      <td>50.00</td>\n",
       "      <td>50.0</td>\n",
       "    </tr>\n",
       "    <tr>\n",
       "      <th>1992</th>\n",
       "      <td>3.0</td>\n",
       "      <td>268.333333</td>\n",
       "      <td>130.676445</td>\n",
       "      <td>146.0</td>\n",
       "      <td>199.50</td>\n",
       "      <td>253.0</td>\n",
       "      <td>329.50</td>\n",
       "      <td>406.0</td>\n",
       "    </tr>\n",
       "    <tr>\n",
       "      <th>1993</th>\n",
       "      <td>6.0</td>\n",
       "      <td>35.000000</td>\n",
       "      <td>14.268847</td>\n",
       "      <td>23.0</td>\n",
       "      <td>24.75</td>\n",
       "      <td>32.0</td>\n",
       "      <td>37.75</td>\n",
       "      <td>61.0</td>\n",
       "    </tr>\n",
       "    <tr>\n",
       "      <th>1995</th>\n",
       "      <td>1.0</td>\n",
       "      <td>146.000000</td>\n",
       "      <td>NaN</td>\n",
       "      <td>146.0</td>\n",
       "      <td>146.00</td>\n",
       "      <td>146.0</td>\n",
       "      <td>146.00</td>\n",
       "      <td>146.0</td>\n",
       "    </tr>\n",
       "    <tr>\n",
       "      <th>1996</th>\n",
       "      <td>2.0</td>\n",
       "      <td>12.000000</td>\n",
       "      <td>14.142136</td>\n",
       "      <td>2.0</td>\n",
       "      <td>7.00</td>\n",
       "      <td>12.0</td>\n",
       "      <td>17.00</td>\n",
       "      <td>22.0</td>\n",
       "    </tr>\n",
       "    <tr>\n",
       "      <th>1998</th>\n",
       "      <td>1.0</td>\n",
       "      <td>19.000000</td>\n",
       "      <td>NaN</td>\n",
       "      <td>19.0</td>\n",
       "      <td>19.00</td>\n",
       "      <td>19.0</td>\n",
       "      <td>19.00</td>\n",
       "      <td>19.0</td>\n",
       "    </tr>\n",
       "  </tbody>\n",
       "</table>\n",
       "</div>"
      ],
      "text/plain": [
       "      count        mean         std    min     25%    50%     75%    max\n",
       "year                                                                    \n",
       "1987   10.0   80.900000  113.401401    2.0   26.75   41.0   82.50  390.0\n",
       "1988    1.0   37.000000         NaN   37.0   37.00   37.0   37.00   37.0\n",
       "1989    6.0  211.166667  152.473495   34.0  128.75  191.0  246.50  478.0\n",
       "1990    1.0  559.000000         NaN  559.0  559.00  559.0  559.00  559.0\n",
       "1991    1.0   50.000000         NaN   50.0   50.00   50.0   50.00   50.0\n",
       "1992    3.0  268.333333  130.676445  146.0  199.50  253.0  329.50  406.0\n",
       "1993    6.0   35.000000   14.268847   23.0   24.75   32.0   37.75   61.0\n",
       "1995    1.0  146.000000         NaN  146.0  146.00  146.0  146.00  146.0\n",
       "1996    2.0   12.000000   14.142136    2.0    7.00   12.0   17.00   22.0\n",
       "1998    1.0   19.000000         NaN   19.0   19.00   19.0   19.00   19.0"
      ]
     },
     "execution_count": 18,
     "metadata": {},
     "output_type": "execute_result"
    }
   ],
   "source": [
    "childhood_sets.groupby('year')['num_parts'].describe()"
   ]
  },
  {
   "cell_type": "markdown",
   "metadata": {},
   "source": [
    "Based on the `max` value, it seems larger sets were released between 1987 and 1992, especially in 1989, 1990 and 1992.\n",
    "Let's get'em !!!"
   ]
  },
  {
   "cell_type": "code",
   "execution_count": 19,
   "metadata": {
    "ExecuteTime": {
     "end_time": "2020-02-09T13:57:48.747527Z",
     "start_time": "2020-02-09T13:57:48.741138Z"
    }
   },
   "outputs": [],
   "source": [
    "big_sets = childhood_sets[childhood_sets['num_parts'] > 300]"
   ]
  },
  {
   "cell_type": "code",
   "execution_count": 20,
   "metadata": {
    "ExecuteTime": {
     "end_time": "2020-02-09T13:57:49.617970Z",
     "start_time": "2020-02-09T13:57:49.603246Z"
    }
   },
   "outputs": [
    {
     "data": {
      "text/html": [
       "<div>\n",
       "<style scoped>\n",
       "    .dataframe tbody tr th:only-of-type {\n",
       "        vertical-align: middle;\n",
       "    }\n",
       "\n",
       "    .dataframe tbody tr th {\n",
       "        vertical-align: top;\n",
       "    }\n",
       "\n",
       "    .dataframe thead th {\n",
       "        text-align: right;\n",
       "    }\n",
       "</style>\n",
       "<table border=\"1\" class=\"dataframe\">\n",
       "  <thead>\n",
       "    <tr style=\"text-align: right;\">\n",
       "      <th></th>\n",
       "      <th>set_num</th>\n",
       "      <th>name</th>\n",
       "      <th>year</th>\n",
       "      <th>theme_id</th>\n",
       "      <th>num_parts</th>\n",
       "    </tr>\n",
       "  </thead>\n",
       "  <tbody>\n",
       "    <tr>\n",
       "      <th>9305</th>\n",
       "      <td>6972-1</td>\n",
       "      <td>Polaris I Space Lab</td>\n",
       "      <td>1987</td>\n",
       "      <td>130</td>\n",
       "      <td>390</td>\n",
       "    </tr>\n",
       "    <tr>\n",
       "      <th>9315</th>\n",
       "      <td>6984-1</td>\n",
       "      <td>Galactic Mediator</td>\n",
       "      <td>1992</td>\n",
       "      <td>140</td>\n",
       "      <td>406</td>\n",
       "    </tr>\n",
       "    <tr>\n",
       "      <th>9317</th>\n",
       "      <td>6986-1</td>\n",
       "      <td>Mission Commander</td>\n",
       "      <td>1989</td>\n",
       "      <td>139</td>\n",
       "      <td>478</td>\n",
       "    </tr>\n",
       "    <tr>\n",
       "      <th>14025</th>\n",
       "      <td>9355-1</td>\n",
       "      <td>Dacta Space Theme Set</td>\n",
       "      <td>1990</td>\n",
       "      <td>527</td>\n",
       "      <td>559</td>\n",
       "    </tr>\n",
       "  </tbody>\n",
       "</table>\n",
       "</div>"
      ],
      "text/plain": [
       "      set_num                   name  year  theme_id  num_parts\n",
       "9305   6972-1    Polaris I Space Lab  1987       130        390\n",
       "9315   6984-1      Galactic Mediator  1992       140        406\n",
       "9317   6986-1      Mission Commander  1989       139        478\n",
       "14025  9355-1  Dacta Space Theme Set  1990       527        559"
      ]
     },
     "execution_count": 20,
     "metadata": {},
     "output_type": "execute_result"
    }
   ],
   "source": [
    "big_sets"
   ]
  },
  {
   "cell_type": "markdown",
   "metadata": {},
   "source": [
    "Which Theme are those sets related to ?"
   ]
  },
  {
   "cell_type": "code",
   "execution_count": 21,
   "metadata": {
    "ExecuteTime": {
     "end_time": "2020-02-09T13:58:05.971090Z",
     "start_time": "2020-02-09T13:58:05.948825Z"
    }
   },
   "outputs": [],
   "source": [
    "big_sets = big_sets.merge(lego_themes, how='inner', left_index=True, left_on='theme_id', right_on='id', suffixes=('_set', '_theme'))"
   ]
  },
  {
   "cell_type": "code",
   "execution_count": 22,
   "metadata": {
    "ExecuteTime": {
     "end_time": "2020-02-09T13:58:10.007988Z",
     "start_time": "2020-02-09T13:58:09.989317Z"
    }
   },
   "outputs": [
    {
     "data": {
      "text/html": [
       "<div>\n",
       "<style scoped>\n",
       "    .dataframe tbody tr th:only-of-type {\n",
       "        vertical-align: middle;\n",
       "    }\n",
       "\n",
       "    .dataframe tbody tr th {\n",
       "        vertical-align: top;\n",
       "    }\n",
       "\n",
       "    .dataframe thead th {\n",
       "        text-align: right;\n",
       "    }\n",
       "</style>\n",
       "<table border=\"1\" class=\"dataframe\">\n",
       "  <thead>\n",
       "    <tr style=\"text-align: right;\">\n",
       "      <th></th>\n",
       "      <th>set_num</th>\n",
       "      <th>name_set</th>\n",
       "      <th>year</th>\n",
       "      <th>num_parts</th>\n",
       "      <th>name_theme</th>\n",
       "    </tr>\n",
       "    <tr>\n",
       "      <th>id</th>\n",
       "      <th></th>\n",
       "      <th></th>\n",
       "      <th></th>\n",
       "      <th></th>\n",
       "      <th></th>\n",
       "    </tr>\n",
       "  </thead>\n",
       "  <tbody>\n",
       "    <tr>\n",
       "      <th>130</th>\n",
       "      <td>6972-1</td>\n",
       "      <td>Polaris I Space Lab</td>\n",
       "      <td>1987</td>\n",
       "      <td>390</td>\n",
       "      <td>Classic Space</td>\n",
       "    </tr>\n",
       "    <tr>\n",
       "      <th>140</th>\n",
       "      <td>6984-1</td>\n",
       "      <td>Galactic Mediator</td>\n",
       "      <td>1992</td>\n",
       "      <td>406</td>\n",
       "      <td>Space Police II</td>\n",
       "    </tr>\n",
       "    <tr>\n",
       "      <th>139</th>\n",
       "      <td>6986-1</td>\n",
       "      <td>Mission Commander</td>\n",
       "      <td>1989</td>\n",
       "      <td>478</td>\n",
       "      <td>Space Police I</td>\n",
       "    </tr>\n",
       "    <tr>\n",
       "      <th>527</th>\n",
       "      <td>9355-1</td>\n",
       "      <td>Dacta Space Theme Set</td>\n",
       "      <td>1990</td>\n",
       "      <td>559</td>\n",
       "      <td>Space</td>\n",
       "    </tr>\n",
       "  </tbody>\n",
       "</table>\n",
       "</div>"
      ],
      "text/plain": [
       "    set_num               name_set  year  num_parts       name_theme\n",
       "id                                                                  \n",
       "130  6972-1    Polaris I Space Lab  1987        390    Classic Space\n",
       "140  6984-1      Galactic Mediator  1992        406  Space Police II\n",
       "139  6986-1      Mission Commander  1989        478   Space Police I\n",
       "527  9355-1  Dacta Space Theme Set  1990        559            Space"
      ]
     },
     "execution_count": 22,
     "metadata": {},
     "output_type": "execute_result"
    }
   ],
   "source": [
    "big_sets = big_sets.drop(['theme_id', 'parent_id'], axis=1)\n",
    "big_sets"
   ]
  },
  {
   "cell_type": "markdown",
   "metadata": {},
   "source": [
    "Sure i want to get those sets ! Or spare parts to build them :) \n",
    "\n",
    "Head on to get the parts."
   ]
  },
  {
   "cell_type": "markdown",
   "metadata": {},
   "source": [
    "## Lego Inventories & Parts"
   ]
  },
  {
   "cell_type": "markdown",
   "metadata": {},
   "source": [
    "### Getting the inventories"
   ]
  },
  {
   "cell_type": "code",
   "execution_count": 24,
   "metadata": {
    "ExecuteTime": {
     "end_time": "2020-02-09T13:58:50.687226Z",
     "start_time": "2020-02-09T13:58:50.654493Z"
    }
   },
   "outputs": [],
   "source": [
    "inventories = pd.read_csv(os.path.join(local_path, 'lego_inventories.csv'))"
   ]
  },
  {
   "cell_type": "code",
   "execution_count": 25,
   "metadata": {
    "ExecuteTime": {
     "end_time": "2020-02-09T13:58:51.638875Z",
     "start_time": "2020-02-09T13:58:51.625682Z"
    }
   },
   "outputs": [
    {
     "data": {
      "text/html": [
       "<div>\n",
       "<style scoped>\n",
       "    .dataframe tbody tr th:only-of-type {\n",
       "        vertical-align: middle;\n",
       "    }\n",
       "\n",
       "    .dataframe tbody tr th {\n",
       "        vertical-align: top;\n",
       "    }\n",
       "\n",
       "    .dataframe thead th {\n",
       "        text-align: right;\n",
       "    }\n",
       "</style>\n",
       "<table border=\"1\" class=\"dataframe\">\n",
       "  <thead>\n",
       "    <tr style=\"text-align: right;\">\n",
       "      <th></th>\n",
       "      <th>id</th>\n",
       "      <th>version</th>\n",
       "      <th>set_num</th>\n",
       "    </tr>\n",
       "  </thead>\n",
       "  <tbody>\n",
       "    <tr>\n",
       "      <th>0</th>\n",
       "      <td>1</td>\n",
       "      <td>1</td>\n",
       "      <td>7922-1</td>\n",
       "    </tr>\n",
       "    <tr>\n",
       "      <th>1</th>\n",
       "      <td>3</td>\n",
       "      <td>1</td>\n",
       "      <td>3931-1</td>\n",
       "    </tr>\n",
       "    <tr>\n",
       "      <th>2</th>\n",
       "      <td>4</td>\n",
       "      <td>1</td>\n",
       "      <td>6942-1</td>\n",
       "    </tr>\n",
       "    <tr>\n",
       "      <th>3</th>\n",
       "      <td>15</td>\n",
       "      <td>1</td>\n",
       "      <td>5158-1</td>\n",
       "    </tr>\n",
       "    <tr>\n",
       "      <th>4</th>\n",
       "      <td>16</td>\n",
       "      <td>1</td>\n",
       "      <td>903-1</td>\n",
       "    </tr>\n",
       "  </tbody>\n",
       "</table>\n",
       "</div>"
      ],
      "text/plain": [
       "   id  version set_num\n",
       "0   1        1  7922-1\n",
       "1   3        1  3931-1\n",
       "2   4        1  6942-1\n",
       "3  15        1  5158-1\n",
       "4  16        1   903-1"
      ]
     },
     "execution_count": 25,
     "metadata": {},
     "output_type": "execute_result"
    }
   ],
   "source": [
    "inventories.head()"
   ]
  },
  {
   "cell_type": "code",
   "execution_count": 26,
   "metadata": {
    "ExecuteTime": {
     "end_time": "2020-02-09T13:58:58.027367Z",
     "start_time": "2020-02-09T13:58:58.006388Z"
    },
    "scrolled": true
   },
   "outputs": [],
   "source": [
    "my_inventories = big_sets.merge(inventories, how='inner', left_on='set_num', right_on='set_num')"
   ]
  },
  {
   "cell_type": "code",
   "execution_count": 27,
   "metadata": {
    "ExecuteTime": {
     "end_time": "2020-02-09T13:58:59.919120Z",
     "start_time": "2020-02-09T13:58:59.901572Z"
    }
   },
   "outputs": [
    {
     "data": {
      "text/html": [
       "<div>\n",
       "<style scoped>\n",
       "    .dataframe tbody tr th:only-of-type {\n",
       "        vertical-align: middle;\n",
       "    }\n",
       "\n",
       "    .dataframe tbody tr th {\n",
       "        vertical-align: top;\n",
       "    }\n",
       "\n",
       "    .dataframe thead th {\n",
       "        text-align: right;\n",
       "    }\n",
       "</style>\n",
       "<table border=\"1\" class=\"dataframe\">\n",
       "  <thead>\n",
       "    <tr style=\"text-align: right;\">\n",
       "      <th></th>\n",
       "      <th>set_num</th>\n",
       "      <th>name_set</th>\n",
       "      <th>year</th>\n",
       "      <th>num_parts</th>\n",
       "      <th>name_theme</th>\n",
       "      <th>id</th>\n",
       "      <th>version</th>\n",
       "    </tr>\n",
       "  </thead>\n",
       "  <tbody>\n",
       "    <tr>\n",
       "      <th>0</th>\n",
       "      <td>6972-1</td>\n",
       "      <td>Polaris I Space Lab</td>\n",
       "      <td>1987</td>\n",
       "      <td>390</td>\n",
       "      <td>Classic Space</td>\n",
       "      <td>3396</td>\n",
       "      <td>1</td>\n",
       "    </tr>\n",
       "    <tr>\n",
       "      <th>1</th>\n",
       "      <td>6984-1</td>\n",
       "      <td>Galactic Mediator</td>\n",
       "      <td>1992</td>\n",
       "      <td>406</td>\n",
       "      <td>Space Police II</td>\n",
       "      <td>3297</td>\n",
       "      <td>1</td>\n",
       "    </tr>\n",
       "    <tr>\n",
       "      <th>2</th>\n",
       "      <td>6986-1</td>\n",
       "      <td>Mission Commander</td>\n",
       "      <td>1989</td>\n",
       "      <td>478</td>\n",
       "      <td>Space Police I</td>\n",
       "      <td>12670</td>\n",
       "      <td>1</td>\n",
       "    </tr>\n",
       "    <tr>\n",
       "      <th>3</th>\n",
       "      <td>9355-1</td>\n",
       "      <td>Dacta Space Theme Set</td>\n",
       "      <td>1990</td>\n",
       "      <td>559</td>\n",
       "      <td>Space</td>\n",
       "      <td>3140</td>\n",
       "      <td>1</td>\n",
       "    </tr>\n",
       "  </tbody>\n",
       "</table>\n",
       "</div>"
      ],
      "text/plain": [
       "  set_num               name_set  year  num_parts       name_theme     id  \\\n",
       "0  6972-1    Polaris I Space Lab  1987        390    Classic Space   3396   \n",
       "1  6984-1      Galactic Mediator  1992        406  Space Police II   3297   \n",
       "2  6986-1      Mission Commander  1989        478   Space Police I  12670   \n",
       "3  9355-1  Dacta Space Theme Set  1990        559            Space   3140   \n",
       "\n",
       "   version  \n",
       "0        1  \n",
       "1        1  \n",
       "2        1  \n",
       "3        1  "
      ]
     },
     "execution_count": 27,
     "metadata": {},
     "output_type": "execute_result"
    }
   ],
   "source": [
    "my_inventories"
   ]
  },
  {
   "cell_type": "markdown",
   "metadata": {},
   "source": [
    "### Getting the parts for each set"
   ]
  },
  {
   "cell_type": "code",
   "execution_count": 29,
   "metadata": {
    "ExecuteTime": {
     "end_time": "2020-02-09T13:59:31.850799Z",
     "start_time": "2020-02-09T13:59:31.251269Z"
    }
   },
   "outputs": [],
   "source": [
    "inventories_parts = pd.read_csv(os.path.join(local_path, 'lego_inventory_parts.csv'), index_col='inventory_id')"
   ]
  },
  {
   "cell_type": "code",
   "execution_count": 30,
   "metadata": {
    "ExecuteTime": {
     "end_time": "2020-02-09T13:59:34.801256Z",
     "start_time": "2020-02-09T13:59:34.785353Z"
    }
   },
   "outputs": [
    {
     "data": {
      "text/html": [
       "<div>\n",
       "<style scoped>\n",
       "    .dataframe tbody tr th:only-of-type {\n",
       "        vertical-align: middle;\n",
       "    }\n",
       "\n",
       "    .dataframe tbody tr th {\n",
       "        vertical-align: top;\n",
       "    }\n",
       "\n",
       "    .dataframe thead th {\n",
       "        text-align: right;\n",
       "    }\n",
       "</style>\n",
       "<table border=\"1\" class=\"dataframe\">\n",
       "  <thead>\n",
       "    <tr style=\"text-align: right;\">\n",
       "      <th></th>\n",
       "      <th>part_num</th>\n",
       "      <th>color_id</th>\n",
       "      <th>quantity</th>\n",
       "      <th>is_spare</th>\n",
       "    </tr>\n",
       "    <tr>\n",
       "      <th>inventory_id</th>\n",
       "      <th></th>\n",
       "      <th></th>\n",
       "      <th></th>\n",
       "      <th></th>\n",
       "    </tr>\n",
       "  </thead>\n",
       "  <tbody>\n",
       "    <tr>\n",
       "      <th>1</th>\n",
       "      <td>48379c01</td>\n",
       "      <td>72</td>\n",
       "      <td>1</td>\n",
       "      <td>f</td>\n",
       "    </tr>\n",
       "    <tr>\n",
       "      <th>1</th>\n",
       "      <td>48395</td>\n",
       "      <td>7</td>\n",
       "      <td>1</td>\n",
       "      <td>f</td>\n",
       "    </tr>\n",
       "    <tr>\n",
       "      <th>1</th>\n",
       "      <td>mcsport6</td>\n",
       "      <td>25</td>\n",
       "      <td>1</td>\n",
       "      <td>f</td>\n",
       "    </tr>\n",
       "    <tr>\n",
       "      <th>1</th>\n",
       "      <td>paddle</td>\n",
       "      <td>0</td>\n",
       "      <td>1</td>\n",
       "      <td>f</td>\n",
       "    </tr>\n",
       "    <tr>\n",
       "      <th>3</th>\n",
       "      <td>11816pr0005</td>\n",
       "      <td>78</td>\n",
       "      <td>1</td>\n",
       "      <td>f</td>\n",
       "    </tr>\n",
       "  </tbody>\n",
       "</table>\n",
       "</div>"
      ],
      "text/plain": [
       "                 part_num  color_id  quantity is_spare\n",
       "inventory_id                                          \n",
       "1                48379c01        72         1        f\n",
       "1                   48395         7         1        f\n",
       "1                mcsport6        25         1        f\n",
       "1                  paddle         0         1        f\n",
       "3             11816pr0005        78         1        f"
      ]
     },
     "execution_count": 30,
     "metadata": {},
     "output_type": "execute_result"
    }
   ],
   "source": [
    "inventories_parts.head()"
   ]
  },
  {
   "cell_type": "code",
   "execution_count": 31,
   "metadata": {
    "ExecuteTime": {
     "end_time": "2020-02-09T13:59:41.474684Z",
     "start_time": "2020-02-09T13:59:41.448474Z"
    }
   },
   "outputs": [],
   "source": [
    "my_parts = inventories_parts.loc[my_inventories['id']]"
   ]
  },
  {
   "cell_type": "code",
   "execution_count": 32,
   "metadata": {
    "ExecuteTime": {
     "end_time": "2020-02-09T13:59:43.287075Z",
     "start_time": "2020-02-09T13:59:43.271667Z"
    }
   },
   "outputs": [
    {
     "data": {
      "text/html": [
       "<div>\n",
       "<style scoped>\n",
       "    .dataframe tbody tr th:only-of-type {\n",
       "        vertical-align: middle;\n",
       "    }\n",
       "\n",
       "    .dataframe tbody tr th {\n",
       "        vertical-align: top;\n",
       "    }\n",
       "\n",
       "    .dataframe thead th {\n",
       "        text-align: right;\n",
       "    }\n",
       "</style>\n",
       "<table border=\"1\" class=\"dataframe\">\n",
       "  <thead>\n",
       "    <tr style=\"text-align: right;\">\n",
       "      <th></th>\n",
       "      <th>part_num</th>\n",
       "      <th>color_id</th>\n",
       "      <th>quantity</th>\n",
       "      <th>is_spare</th>\n",
       "    </tr>\n",
       "    <tr>\n",
       "      <th>inventory_id</th>\n",
       "      <th></th>\n",
       "      <th></th>\n",
       "      <th></th>\n",
       "      <th></th>\n",
       "    </tr>\n",
       "  </thead>\n",
       "  <tbody>\n",
       "    <tr>\n",
       "      <th>3396</th>\n",
       "      <td>2342</td>\n",
       "      <td>15</td>\n",
       "      <td>2</td>\n",
       "      <td>f</td>\n",
       "    </tr>\n",
       "    <tr>\n",
       "      <th>3396</th>\n",
       "      <td>2345</td>\n",
       "      <td>15</td>\n",
       "      <td>3</td>\n",
       "      <td>f</td>\n",
       "    </tr>\n",
       "    <tr>\n",
       "      <th>3396</th>\n",
       "      <td>2357</td>\n",
       "      <td>15</td>\n",
       "      <td>1</td>\n",
       "      <td>f</td>\n",
       "    </tr>\n",
       "    <tr>\n",
       "      <th>3396</th>\n",
       "      <td>2418a</td>\n",
       "      <td>15</td>\n",
       "      <td>1</td>\n",
       "      <td>f</td>\n",
       "    </tr>\n",
       "    <tr>\n",
       "      <th>3396</th>\n",
       "      <td>2419</td>\n",
       "      <td>36</td>\n",
       "      <td>4</td>\n",
       "      <td>f</td>\n",
       "    </tr>\n",
       "  </tbody>\n",
       "</table>\n",
       "</div>"
      ],
      "text/plain": [
       "             part_num  color_id  quantity is_spare\n",
       "inventory_id                                      \n",
       "3396             2342        15         2        f\n",
       "3396             2345        15         3        f\n",
       "3396             2357        15         1        f\n",
       "3396            2418a        15         1        f\n",
       "3396             2419        36         4        f"
      ]
     },
     "execution_count": 32,
     "metadata": {},
     "output_type": "execute_result"
    }
   ],
   "source": [
    "my_parts.head()"
   ]
  },
  {
   "cell_type": "markdown",
   "metadata": {
    "ExecuteTime": {
     "end_time": "2020-01-25T14:25:02.646486Z",
     "start_time": "2020-01-25T14:25:02.615610Z"
    }
   },
   "source": [
    "### Now joining other dataframes to make it human readable"
   ]
  },
  {
   "cell_type": "code",
   "execution_count": 33,
   "metadata": {
    "ExecuteTime": {
     "end_time": "2020-02-09T14:00:07.520411Z",
     "start_time": "2020-02-09T14:00:07.498739Z"
    }
   },
   "outputs": [],
   "source": [
    "colors = pd.read_csv(os.path.join(local_path, 'lego_colors.csv'))"
   ]
  },
  {
   "cell_type": "code",
   "execution_count": 35,
   "metadata": {
    "ExecuteTime": {
     "end_time": "2020-02-09T14:00:32.038547Z",
     "start_time": "2020-02-09T14:00:31.933221Z"
    }
   },
   "outputs": [],
   "source": [
    "parts = pd.read_csv(os.path.join(local_path, 'lego_parts.csv'))"
   ]
  },
  {
   "cell_type": "code",
   "execution_count": 36,
   "metadata": {
    "ExecuteTime": {
     "end_time": "2020-02-09T14:00:34.268165Z",
     "start_time": "2020-02-09T14:00:34.256309Z"
    }
   },
   "outputs": [],
   "source": [
    "my_parts = my_parts.merge(colors, how='inner', left_on='color_id', right_on='id', suffixes=('_my', '_color'))"
   ]
  },
  {
   "cell_type": "code",
   "execution_count": 37,
   "metadata": {
    "ExecuteTime": {
     "end_time": "2020-02-09T14:00:34.974963Z",
     "start_time": "2020-02-09T14:00:34.939037Z"
    }
   },
   "outputs": [],
   "source": [
    "my_parts = my_parts.merge(parts, how='inner', left_on='part_num', right_on='part_num', suffixes=('_color', '_part'))"
   ]
  },
  {
   "cell_type": "code",
   "execution_count": 38,
   "metadata": {
    "ExecuteTime": {
     "end_time": "2020-02-09T14:00:36.191409Z",
     "start_time": "2020-02-09T14:00:36.167283Z"
    }
   },
   "outputs": [
    {
     "data": {
      "text/html": [
       "<div>\n",
       "<style scoped>\n",
       "    .dataframe tbody tr th:only-of-type {\n",
       "        vertical-align: middle;\n",
       "    }\n",
       "\n",
       "    .dataframe tbody tr th {\n",
       "        vertical-align: top;\n",
       "    }\n",
       "\n",
       "    .dataframe thead th {\n",
       "        text-align: right;\n",
       "    }\n",
       "</style>\n",
       "<table border=\"1\" class=\"dataframe\">\n",
       "  <thead>\n",
       "    <tr style=\"text-align: right;\">\n",
       "      <th></th>\n",
       "      <th>part_num</th>\n",
       "      <th>color_id</th>\n",
       "      <th>quantity</th>\n",
       "      <th>is_spare</th>\n",
       "      <th>id</th>\n",
       "      <th>name_color</th>\n",
       "      <th>rgb</th>\n",
       "      <th>is_trans</th>\n",
       "      <th>name_part</th>\n",
       "      <th>part_cat_id</th>\n",
       "      <th>part_material_id</th>\n",
       "    </tr>\n",
       "  </thead>\n",
       "  <tbody>\n",
       "    <tr>\n",
       "      <th>0</th>\n",
       "      <td>2342</td>\n",
       "      <td>15</td>\n",
       "      <td>2</td>\n",
       "      <td>f</td>\n",
       "      <td>15</td>\n",
       "      <td>White</td>\n",
       "      <td>FFFFFF</td>\n",
       "      <td>f</td>\n",
       "      <td>Equipment Control Panel</td>\n",
       "      <td>27</td>\n",
       "      <td>1</td>\n",
       "    </tr>\n",
       "    <tr>\n",
       "      <th>1</th>\n",
       "      <td>2345</td>\n",
       "      <td>15</td>\n",
       "      <td>3</td>\n",
       "      <td>f</td>\n",
       "      <td>15</td>\n",
       "      <td>White</td>\n",
       "      <td>FFFFFF</td>\n",
       "      <td>f</td>\n",
       "      <td>Panel 3 x 3 x 6 Corner Wall</td>\n",
       "      <td>23</td>\n",
       "      <td>1</td>\n",
       "    </tr>\n",
       "    <tr>\n",
       "      <th>2</th>\n",
       "      <td>2357</td>\n",
       "      <td>15</td>\n",
       "      <td>1</td>\n",
       "      <td>f</td>\n",
       "      <td>15</td>\n",
       "      <td>White</td>\n",
       "      <td>FFFFFF</td>\n",
       "      <td>f</td>\n",
       "      <td>Brick 2 x 2 Corner</td>\n",
       "      <td>11</td>\n",
       "      <td>1</td>\n",
       "    </tr>\n",
       "    <tr>\n",
       "      <th>3</th>\n",
       "      <td>2357</td>\n",
       "      <td>15</td>\n",
       "      <td>20</td>\n",
       "      <td>f</td>\n",
       "      <td>15</td>\n",
       "      <td>White</td>\n",
       "      <td>FFFFFF</td>\n",
       "      <td>f</td>\n",
       "      <td>Brick 2 x 2 Corner</td>\n",
       "      <td>11</td>\n",
       "      <td>1</td>\n",
       "    </tr>\n",
       "    <tr>\n",
       "      <th>4</th>\n",
       "      <td>2357</td>\n",
       "      <td>0</td>\n",
       "      <td>4</td>\n",
       "      <td>f</td>\n",
       "      <td>0</td>\n",
       "      <td>Black</td>\n",
       "      <td>05131D</td>\n",
       "      <td>f</td>\n",
       "      <td>Brick 2 x 2 Corner</td>\n",
       "      <td>11</td>\n",
       "      <td>1</td>\n",
       "    </tr>\n",
       "  </tbody>\n",
       "</table>\n",
       "</div>"
      ],
      "text/plain": [
       "  part_num  color_id  quantity is_spare  id name_color     rgb is_trans  \\\n",
       "0     2342        15         2        f  15      White  FFFFFF        f   \n",
       "1     2345        15         3        f  15      White  FFFFFF        f   \n",
       "2     2357        15         1        f  15      White  FFFFFF        f   \n",
       "3     2357        15        20        f  15      White  FFFFFF        f   \n",
       "4     2357         0         4        f   0      Black  05131D        f   \n",
       "\n",
       "                     name_part  part_cat_id  part_material_id  \n",
       "0      Equipment Control Panel           27                 1  \n",
       "1  Panel 3 x 3 x 6 Corner Wall           23                 1  \n",
       "2           Brick 2 x 2 Corner           11                 1  \n",
       "3           Brick 2 x 2 Corner           11                 1  \n",
       "4           Brick 2 x 2 Corner           11                 1  "
      ]
     },
     "execution_count": 38,
     "metadata": {},
     "output_type": "execute_result"
    }
   ],
   "source": [
    "my_parts.head()"
   ]
  },
  {
   "cell_type": "markdown",
   "metadata": {},
   "source": [
    "There are some columns we can drop, as we got the textual value when merging dataframes"
   ]
  },
  {
   "cell_type": "code",
   "execution_count": 39,
   "metadata": {
    "ExecuteTime": {
     "end_time": "2020-02-09T14:01:42.208909Z",
     "start_time": "2020-02-09T14:01:42.200258Z"
    }
   },
   "outputs": [],
   "source": [
    "my_parts = my_parts.drop(['color_id', 'id', 'part_cat_id', 'part_material_id'], axis=1)"
   ]
  },
  {
   "cell_type": "code",
   "execution_count": 40,
   "metadata": {
    "ExecuteTime": {
     "end_time": "2020-02-09T14:01:42.692191Z",
     "start_time": "2020-02-09T14:01:42.672307Z"
    },
    "scrolled": true
   },
   "outputs": [
    {
     "data": {
      "text/html": [
       "<div>\n",
       "<style scoped>\n",
       "    .dataframe tbody tr th:only-of-type {\n",
       "        vertical-align: middle;\n",
       "    }\n",
       "\n",
       "    .dataframe tbody tr th {\n",
       "        vertical-align: top;\n",
       "    }\n",
       "\n",
       "    .dataframe thead th {\n",
       "        text-align: right;\n",
       "    }\n",
       "</style>\n",
       "<table border=\"1\" class=\"dataframe\">\n",
       "  <thead>\n",
       "    <tr style=\"text-align: right;\">\n",
       "      <th></th>\n",
       "      <th>part_num</th>\n",
       "      <th>quantity</th>\n",
       "      <th>is_spare</th>\n",
       "      <th>name_color</th>\n",
       "      <th>rgb</th>\n",
       "      <th>is_trans</th>\n",
       "      <th>name_part</th>\n",
       "    </tr>\n",
       "  </thead>\n",
       "  <tbody>\n",
       "    <tr>\n",
       "      <th>0</th>\n",
       "      <td>2342</td>\n",
       "      <td>2</td>\n",
       "      <td>f</td>\n",
       "      <td>White</td>\n",
       "      <td>FFFFFF</td>\n",
       "      <td>f</td>\n",
       "      <td>Equipment Control Panel</td>\n",
       "    </tr>\n",
       "    <tr>\n",
       "      <th>1</th>\n",
       "      <td>2345</td>\n",
       "      <td>3</td>\n",
       "      <td>f</td>\n",
       "      <td>White</td>\n",
       "      <td>FFFFFF</td>\n",
       "      <td>f</td>\n",
       "      <td>Panel 3 x 3 x 6 Corner Wall</td>\n",
       "    </tr>\n",
       "    <tr>\n",
       "      <th>2</th>\n",
       "      <td>2357</td>\n",
       "      <td>1</td>\n",
       "      <td>f</td>\n",
       "      <td>White</td>\n",
       "      <td>FFFFFF</td>\n",
       "      <td>f</td>\n",
       "      <td>Brick 2 x 2 Corner</td>\n",
       "    </tr>\n",
       "    <tr>\n",
       "      <th>3</th>\n",
       "      <td>2357</td>\n",
       "      <td>20</td>\n",
       "      <td>f</td>\n",
       "      <td>White</td>\n",
       "      <td>FFFFFF</td>\n",
       "      <td>f</td>\n",
       "      <td>Brick 2 x 2 Corner</td>\n",
       "    </tr>\n",
       "    <tr>\n",
       "      <th>4</th>\n",
       "      <td>2357</td>\n",
       "      <td>4</td>\n",
       "      <td>f</td>\n",
       "      <td>Black</td>\n",
       "      <td>05131D</td>\n",
       "      <td>f</td>\n",
       "      <td>Brick 2 x 2 Corner</td>\n",
       "    </tr>\n",
       "  </tbody>\n",
       "</table>\n",
       "</div>"
      ],
      "text/plain": [
       "  part_num  quantity is_spare name_color     rgb is_trans  \\\n",
       "0     2342         2        f      White  FFFFFF        f   \n",
       "1     2345         3        f      White  FFFFFF        f   \n",
       "2     2357         1        f      White  FFFFFF        f   \n",
       "3     2357        20        f      White  FFFFFF        f   \n",
       "4     2357         4        f      Black  05131D        f   \n",
       "\n",
       "                     name_part  \n",
       "0      Equipment Control Panel  \n",
       "1  Panel 3 x 3 x 6 Corner Wall  \n",
       "2           Brick 2 x 2 Corner  \n",
       "3           Brick 2 x 2 Corner  \n",
       "4           Brick 2 x 2 Corner  "
      ]
     },
     "execution_count": 40,
     "metadata": {},
     "output_type": "execute_result"
    }
   ],
   "source": [
    "my_parts.head()"
   ]
  },
  {
   "cell_type": "code",
   "execution_count": 43,
   "metadata": {
    "ExecuteTime": {
     "end_time": "2020-02-09T14:02:27.412665Z",
     "start_time": "2020-02-09T14:02:27.399217Z"
    }
   },
   "outputs": [
    {
     "data": {
      "text/plain": [
       "count    515.000000\n",
       "mean       3.561165\n",
       "std        3.666237\n",
       "min        1.000000\n",
       "25%        2.000000\n",
       "50%        2.000000\n",
       "75%        4.000000\n",
       "max       40.000000\n",
       "Name: quantity, dtype: float64"
      ]
     },
     "execution_count": 43,
     "metadata": {},
     "output_type": "execute_result"
    }
   ],
   "source": [
    "my_parts['quantity'].describe()"
   ]
  },
  {
   "cell_type": "code",
   "execution_count": 44,
   "metadata": {
    "ExecuteTime": {
     "end_time": "2020-02-09T14:02:40.163863Z",
     "start_time": "2020-02-09T14:02:40.157103Z"
    }
   },
   "outputs": [
    {
     "data": {
      "text/plain": [
       "1834"
      ]
     },
     "execution_count": 44,
     "metadata": {},
     "output_type": "execute_result"
    }
   ],
   "source": [
    "my_parts['quantity'].sum()"
   ]
  },
  {
   "cell_type": "code",
   "execution_count": 45,
   "metadata": {
    "ExecuteTime": {
     "end_time": "2020-02-09T14:02:41.120423Z",
     "start_time": "2020-02-09T14:02:41.091882Z"
    }
   },
   "outputs": [
    {
     "data": {
      "text/plain": [
       "name_color\n",
       "Black               612\n",
       "Blue                302\n",
       "Dark Gray             2\n",
       "Green                 6\n",
       "Light Gray          146\n",
       "Red                  85\n",
       "Trans-Clear           3\n",
       "Trans-Dark Blue      22\n",
       "Trans-Green          23\n",
       "Trans-Light Blue     12\n",
       "Trans-Neon Green      1\n",
       "Trans-Red            82\n",
       "White               493\n",
       "Yellow               45\n",
       "Name: quantity, dtype: int64"
      ]
     },
     "execution_count": 45,
     "metadata": {},
     "output_type": "execute_result"
    }
   ],
   "source": [
    "my_parts.groupby('name_color')['quantity'].sum()"
   ]
  },
  {
   "cell_type": "code",
   "execution_count": 46,
   "metadata": {
    "ExecuteTime": {
     "end_time": "2020-02-09T14:02:44.277353Z",
     "start_time": "2020-02-09T14:02:44.264713Z"
    }
   },
   "outputs": [
    {
     "data": {
      "text/plain": [
       "part_num\n",
       "122c02           7\n",
       "200              1\n",
       "202              1\n",
       "2340             8\n",
       "2342             2\n",
       "2345             3\n",
       "2357            33\n",
       "2362a            7\n",
       "2362ap53         2\n",
       "2362ap54         2\n",
       "2401             6\n",
       "2412a            6\n",
       "2412b           12\n",
       "2418a            1\n",
       "2419            15\n",
       "2420             7\n",
       "2428             1\n",
       "2431            11\n",
       "2432             8\n",
       "2433             2\n",
       "2434             2\n",
       "2436             4\n",
       "2440             1\n",
       "2445             3\n",
       "2446            14\n",
       "2447            15\n",
       "2450             4\n",
       "2452             5\n",
       "2454a            4\n",
       "2458             2\n",
       "                ..\n",
       "4737             1\n",
       "4740            15\n",
       "4854             3\n",
       "4856a            1\n",
       "4857             2\n",
       "4859             1\n",
       "4864a            6\n",
       "4871             2\n",
       "4872             3\n",
       "4873             2\n",
       "6007             2\n",
       "6019             2\n",
       "6058             1\n",
       "6061b            4\n",
       "608p03           2\n",
       "6099p03          1\n",
       "6141            14\n",
       "73590c01a        4\n",
       "73983            6\n",
       "970c00           8\n",
       "970x001          2\n",
       "970x026          7\n",
       "973p51c01        1\n",
       "973p52c01        1\n",
       "973p69c12        1\n",
       "973p6bc02        4\n",
       "973p6bc42        2\n",
       "973p6dc01        4\n",
       "973pb0081c01     1\n",
       "973pr1594c01     3\n",
       "Name: quantity, Length: 227, dtype: int64"
      ]
     },
     "execution_count": 46,
     "metadata": {},
     "output_type": "execute_result"
    }
   ],
   "source": [
    "my_parts.groupby('part_num')['quantity'].sum()"
   ]
  },
  {
   "cell_type": "markdown",
   "metadata": {},
   "source": [
    "So now i got a complete inventory of parts to buy, with colors used :)"
   ]
  },
  {
   "cell_type": "markdown",
   "metadata": {},
   "source": [
    "# LEGO Space sets Data Analysis\n",
    "In the first part, we worked on getting Data based on our preference.\n",
    "Now it's time to get a bigger picture of Space sets !\n",
    "\n",
    "Let's get back to our `space_sets` dataframe"
   ]
  },
  {
   "cell_type": "code",
   "execution_count": 48,
   "metadata": {
    "ExecuteTime": {
     "end_time": "2020-02-09T14:25:22.960908Z",
     "start_time": "2020-02-09T14:25:22.947930Z"
    }
   },
   "outputs": [
    {
     "data": {
      "text/plain": [
       "count    171.000000\n",
       "mean     131.771930\n",
       "std      152.107626\n",
       "min        2.000000\n",
       "25%       25.500000\n",
       "50%       66.000000\n",
       "75%      187.000000\n",
       "max      825.000000\n",
       "Name: num_parts, dtype: float64"
      ]
     },
     "execution_count": 48,
     "metadata": {},
     "output_type": "execute_result"
    }
   ],
   "source": [
    "space_sets['num_parts'].describe()"
   ]
  },
  {
   "cell_type": "code",
   "execution_count": 66,
   "metadata": {
    "ExecuteTime": {
     "end_time": "2020-02-10T11:58:00.230495Z",
     "start_time": "2020-02-10T11:58:00.017966Z"
    },
    "scrolled": true
   },
   "outputs": [
    {
     "data": {
      "image/png": "[encoded data removed]",
      "text/plain": [
       "<Figure size 432x288 with 1 Axes>"
      ]
     },
     "metadata": {
      "needs_background": "light"
     },
     "output_type": "display_data"
    }
   ],
   "source": [
    "space_sets['num_parts'].plot.hist(bins=20)\n",
    "plt.show()"
   ]
  },
  {
   "cell_type": "markdown",
   "metadata": {},
   "source": [
    "Space sets tend to be \"small\" sets, the more were released with a number of parts less than 200."
   ]
  },
  {
   "cell_type": "code",
   "execution_count": 64,
   "metadata": {
    "ExecuteTime": {
     "end_time": "2020-02-10T11:56:42.296535Z",
     "start_time": "2020-02-10T11:56:42.046336Z"
    }
   },
   "outputs": [
    {
     "data": {
      "image/png": "[encoded data removed]",
      "text/plain": [
       "<Figure size 432x288 with 1 Axes>"
      ]
     },
     "metadata": {
      "needs_background": "light"
     },
     "output_type": "display_data"
    }
   ],
   "source": [
    "space_sets.groupby('year')['num_parts'].mean().plot()\n",
    "plt.show()"
   ]
  },
  {
   "cell_type": "markdown",
   "metadata": {},
   "source": [
    "The distribution of the average number of parts by year is pretty uneven.\n",
    "\n",
    "We are going to analyze the parts used in Space sets"
   ]
  },
  {
   "cell_type": "code",
   "execution_count": 67,
   "metadata": {
    "ExecuteTime": {
     "end_time": "2020-02-10T12:05:18.793045Z",
     "start_time": "2020-02-10T12:05:18.774109Z"
    }
   },
   "outputs": [],
   "source": [
    "space_inventories = space_sets.merge(inventories, how='inner', left_on='set_num', right_on='set_num')"
   ]
  },
  {
   "cell_type": "code",
   "execution_count": 68,
   "metadata": {
    "ExecuteTime": {
     "end_time": "2020-02-10T12:05:25.531801Z",
     "start_time": "2020-02-10T12:05:25.513794Z"
    }
   },
   "outputs": [
    {
     "data": {
      "text/html": [
       "<div>\n",
       "<style scoped>\n",
       "    .dataframe tbody tr th:only-of-type {\n",
       "        vertical-align: middle;\n",
       "    }\n",
       "\n",
       "    .dataframe tbody tr th {\n",
       "        vertical-align: top;\n",
       "    }\n",
       "\n",
       "    .dataframe thead th {\n",
       "        text-align: right;\n",
       "    }\n",
       "</style>\n",
       "<table border=\"1\" class=\"dataframe\">\n",
       "  <thead>\n",
       "    <tr style=\"text-align: right;\">\n",
       "      <th></th>\n",
       "      <th>set_num</th>\n",
       "      <th>name</th>\n",
       "      <th>year</th>\n",
       "      <th>theme_id</th>\n",
       "      <th>num_parts</th>\n",
       "      <th>id</th>\n",
       "      <th>version</th>\n",
       "    </tr>\n",
       "  </thead>\n",
       "  <tbody>\n",
       "    <tr>\n",
       "      <th>0</th>\n",
       "      <td>1180-1</td>\n",
       "      <td>Space Port Moon Buggy</td>\n",
       "      <td>1999</td>\n",
       "      <td>93</td>\n",
       "      <td>25</td>\n",
       "      <td>1713</td>\n",
       "      <td>1</td>\n",
       "    </tr>\n",
       "    <tr>\n",
       "      <th>1</th>\n",
       "      <td>1181-1</td>\n",
       "      <td>Space Port Spacecraft</td>\n",
       "      <td>1999</td>\n",
       "      <td>93</td>\n",
       "      <td>23</td>\n",
       "      <td>4408</td>\n",
       "      <td>1</td>\n",
       "    </tr>\n",
       "    <tr>\n",
       "      <th>2</th>\n",
       "      <td>11910-1</td>\n",
       "      <td>Micro-Scale Space Cruiser</td>\n",
       "      <td>2015</td>\n",
       "      <td>126</td>\n",
       "      <td>102</td>\n",
       "      <td>9862</td>\n",
       "      <td>1</td>\n",
       "    </tr>\n",
       "    <tr>\n",
       "      <th>3</th>\n",
       "      <td>12-1</td>\n",
       "      <td>Blue Space Elements</td>\n",
       "      <td>1981</td>\n",
       "      <td>452</td>\n",
       "      <td>8</td>\n",
       "      <td>11920</td>\n",
       "      <td>1</td>\n",
       "    </tr>\n",
       "    <tr>\n",
       "      <th>4</th>\n",
       "      <td>1213-1</td>\n",
       "      <td>Space Radar Disks</td>\n",
       "      <td>1982</td>\n",
       "      <td>452</td>\n",
       "      <td>5</td>\n",
       "      <td>15402</td>\n",
       "      <td>1</td>\n",
       "    </tr>\n",
       "  </tbody>\n",
       "</table>\n",
       "</div>"
      ],
      "text/plain": [
       "   set_num                       name  year  theme_id  num_parts     id  \\\n",
       "0   1180-1      Space Port Moon Buggy  1999        93         25   1713   \n",
       "1   1181-1      Space Port Spacecraft  1999        93         23   4408   \n",
       "2  11910-1  Micro-Scale Space Cruiser  2015       126        102   9862   \n",
       "3     12-1        Blue Space Elements  1981       452          8  11920   \n",
       "4   1213-1          Space Radar Disks  1982       452          5  15402   \n",
       "\n",
       "   version  \n",
       "0        1  \n",
       "1        1  \n",
       "2        1  \n",
       "3        1  \n",
       "4        1  "
      ]
     },
     "execution_count": 68,
     "metadata": {},
     "output_type": "execute_result"
    }
   ],
   "source": [
    "space_inventories.head()"
   ]
  },
  {
   "cell_type": "code",
   "execution_count": 69,
   "metadata": {
    "ExecuteTime": {
     "end_time": "2020-02-10T12:07:19.404615Z",
     "start_time": "2020-02-10T12:07:19.185808Z"
    },
    "scrolled": true
   },
   "outputs": [
    {
     "name": "stderr",
     "output_type": "stream",
     "text": [
      "/home/jupyter/anaconda3/envs/python3/lib/python3.7/site-packages/ipykernel_launcher.py:1: FutureWarning: \n",
      "Passing list-likes to .loc or [] with any missing label will raise\n",
      "KeyError in the future, you can use .reindex() as an alternative.\n",
      "\n",
      "See the documentation here:\n",
      "https://pandas.pydata.org/pandas-docs/stable/indexing.html#deprecate-loc-reindex-listlike\n",
      "  \"\"\"Entry point for launching an IPython kernel.\n"
     ]
    }
   ],
   "source": [
    "space_parts = inventories_parts.loc[space_inventories['id']]"
   ]
  },
  {
   "cell_type": "code",
   "execution_count": 70,
   "metadata": {
    "ExecuteTime": {
     "end_time": "2020-02-10T12:08:35.443718Z",
     "start_time": "2020-02-10T12:08:35.426566Z"
    }
   },
   "outputs": [
    {
     "data": {
      "text/html": [
       "<div>\n",
       "<style scoped>\n",
       "    .dataframe tbody tr th:only-of-type {\n",
       "        vertical-align: middle;\n",
       "    }\n",
       "\n",
       "    .dataframe tbody tr th {\n",
       "        vertical-align: top;\n",
       "    }\n",
       "\n",
       "    .dataframe thead th {\n",
       "        text-align: right;\n",
       "    }\n",
       "</style>\n",
       "<table border=\"1\" class=\"dataframe\">\n",
       "  <thead>\n",
       "    <tr style=\"text-align: right;\">\n",
       "      <th></th>\n",
       "      <th>part_num</th>\n",
       "      <th>color_id</th>\n",
       "      <th>quantity</th>\n",
       "      <th>is_spare</th>\n",
       "    </tr>\n",
       "    <tr>\n",
       "      <th>inventory_id</th>\n",
       "      <th></th>\n",
       "      <th></th>\n",
       "      <th></th>\n",
       "      <th></th>\n",
       "    </tr>\n",
       "  </thead>\n",
       "  <tbody>\n",
       "    <tr>\n",
       "      <th>1713</th>\n",
       "      <td>2412b</td>\n",
       "      <td>1.0</td>\n",
       "      <td>2.0</td>\n",
       "      <td>f</td>\n",
       "    </tr>\n",
       "    <tr>\n",
       "      <th>1713</th>\n",
       "      <td>30027a</td>\n",
       "      <td>15.0</td>\n",
       "      <td>4.0</td>\n",
       "      <td>f</td>\n",
       "    </tr>\n",
       "    <tr>\n",
       "      <th>1713</th>\n",
       "      <td>30028</td>\n",
       "      <td>0.0</td>\n",
       "      <td>4.0</td>\n",
       "      <td>f</td>\n",
       "    </tr>\n",
       "    <tr>\n",
       "      <th>1713</th>\n",
       "      <td>3626bp69</td>\n",
       "      <td>14.0</td>\n",
       "      <td>1.0</td>\n",
       "      <td>f</td>\n",
       "    </tr>\n",
       "    <tr>\n",
       "      <th>1713</th>\n",
       "      <td>3700</td>\n",
       "      <td>15.0</td>\n",
       "      <td>1.0</td>\n",
       "      <td>f</td>\n",
       "    </tr>\n",
       "  </tbody>\n",
       "</table>\n",
       "</div>"
      ],
      "text/plain": [
       "              part_num  color_id  quantity is_spare\n",
       "inventory_id                                       \n",
       "1713             2412b       1.0       2.0        f\n",
       "1713            30027a      15.0       4.0        f\n",
       "1713             30028       0.0       4.0        f\n",
       "1713          3626bp69      14.0       1.0        f\n",
       "1713              3700      15.0       1.0        f"
      ]
     },
     "execution_count": 70,
     "metadata": {},
     "output_type": "execute_result"
    }
   ],
   "source": [
    "space_parts.head()"
   ]
  },
  {
   "cell_type": "code",
   "execution_count": 71,
   "metadata": {
    "ExecuteTime": {
     "end_time": "2020-02-10T12:09:24.425241Z",
     "start_time": "2020-02-10T12:09:24.409677Z"
    }
   },
   "outputs": [],
   "source": [
    "space_parts = space_parts.merge(colors, how='inner', left_on='color_id', right_on='id', suffixes=('_space', '_color'))"
   ]
  },
  {
   "cell_type": "code",
   "execution_count": 72,
   "metadata": {
    "ExecuteTime": {
     "end_time": "2020-02-10T12:09:45.031614Z",
     "start_time": "2020-02-10T12:09:44.995542Z"
    }
   },
   "outputs": [],
   "source": [
    "space_parts = space_parts.merge(parts, how='inner', left_on='part_num', right_on='part_num', suffixes=('_color', '_part'))"
   ]
  },
  {
   "cell_type": "code",
   "execution_count": 73,
   "metadata": {
    "ExecuteTime": {
     "end_time": "2020-02-10T12:10:17.874122Z",
     "start_time": "2020-02-10T12:10:17.860466Z"
    }
   },
   "outputs": [],
   "source": [
    "space_parts = space_parts.drop(['color_id', 'id', 'part_cat_id', 'part_material_id'], axis=1)"
   ]
  },
  {
   "cell_type": "code",
   "execution_count": 74,
   "metadata": {
    "ExecuteTime": {
     "end_time": "2020-02-10T12:10:23.983994Z",
     "start_time": "2020-02-10T12:10:23.963299Z"
    }
   },
   "outputs": [
    {
     "data": {
      "text/html": [
       "<div>\n",
       "<style scoped>\n",
       "    .dataframe tbody tr th:only-of-type {\n",
       "        vertical-align: middle;\n",
       "    }\n",
       "\n",
       "    .dataframe tbody tr th {\n",
       "        vertical-align: top;\n",
       "    }\n",
       "\n",
       "    .dataframe thead th {\n",
       "        text-align: right;\n",
       "    }\n",
       "</style>\n",
       "<table border=\"1\" class=\"dataframe\">\n",
       "  <thead>\n",
       "    <tr style=\"text-align: right;\">\n",
       "      <th></th>\n",
       "      <th>part_num</th>\n",
       "      <th>quantity</th>\n",
       "      <th>is_spare</th>\n",
       "      <th>name_color</th>\n",
       "      <th>rgb</th>\n",
       "      <th>is_trans</th>\n",
       "      <th>name_part</th>\n",
       "    </tr>\n",
       "  </thead>\n",
       "  <tbody>\n",
       "    <tr>\n",
       "      <th>0</th>\n",
       "      <td>2412b</td>\n",
       "      <td>2.0</td>\n",
       "      <td>f</td>\n",
       "      <td>Blue</td>\n",
       "      <td>0055BF</td>\n",
       "      <td>f</td>\n",
       "      <td>Tile Special 1 x 2 Grille with Bottom Groove</td>\n",
       "    </tr>\n",
       "    <tr>\n",
       "      <th>1</th>\n",
       "      <td>2412b</td>\n",
       "      <td>2.0</td>\n",
       "      <td>f</td>\n",
       "      <td>Blue</td>\n",
       "      <td>0055BF</td>\n",
       "      <td>f</td>\n",
       "      <td>Tile Special 1 x 2 Grille with Bottom Groove</td>\n",
       "    </tr>\n",
       "    <tr>\n",
       "      <th>2</th>\n",
       "      <td>2412b</td>\n",
       "      <td>2.0</td>\n",
       "      <td>f</td>\n",
       "      <td>Blue</td>\n",
       "      <td>0055BF</td>\n",
       "      <td>f</td>\n",
       "      <td>Tile Special 1 x 2 Grille with Bottom Groove</td>\n",
       "    </tr>\n",
       "    <tr>\n",
       "      <th>3</th>\n",
       "      <td>2412b</td>\n",
       "      <td>2.0</td>\n",
       "      <td>f</td>\n",
       "      <td>Blue</td>\n",
       "      <td>0055BF</td>\n",
       "      <td>f</td>\n",
       "      <td>Tile Special 1 x 2 Grille with Bottom Groove</td>\n",
       "    </tr>\n",
       "    <tr>\n",
       "      <th>4</th>\n",
       "      <td>2412b</td>\n",
       "      <td>4.0</td>\n",
       "      <td>f</td>\n",
       "      <td>Blue</td>\n",
       "      <td>0055BF</td>\n",
       "      <td>f</td>\n",
       "      <td>Tile Special 1 x 2 Grille with Bottom Groove</td>\n",
       "    </tr>\n",
       "  </tbody>\n",
       "</table>\n",
       "</div>"
      ],
      "text/plain": [
       "  part_num  quantity is_spare name_color     rgb is_trans  \\\n",
       "0    2412b       2.0        f       Blue  0055BF        f   \n",
       "1    2412b       2.0        f       Blue  0055BF        f   \n",
       "2    2412b       2.0        f       Blue  0055BF        f   \n",
       "3    2412b       2.0        f       Blue  0055BF        f   \n",
       "4    2412b       4.0        f       Blue  0055BF        f   \n",
       "\n",
       "                                      name_part  \n",
       "0  Tile Special 1 x 2 Grille with Bottom Groove  \n",
       "1  Tile Special 1 x 2 Grille with Bottom Groove  \n",
       "2  Tile Special 1 x 2 Grille with Bottom Groove  \n",
       "3  Tile Special 1 x 2 Grille with Bottom Groove  \n",
       "4  Tile Special 1 x 2 Grille with Bottom Groove  "
      ]
     },
     "execution_count": 74,
     "metadata": {},
     "output_type": "execute_result"
    }
   ],
   "source": [
    "space_parts.head()"
   ]
  },
  {
   "cell_type": "code",
   "execution_count": 91,
   "metadata": {
    "ExecuteTime": {
     "end_time": "2020-02-10T12:37:58.031930Z",
     "start_time": "2020-02-10T12:37:58.024376Z"
    }
   },
   "outputs": [
    {
     "data": {
      "text/plain": [
       "24016.0"
      ]
     },
     "execution_count": 91,
     "metadata": {},
     "output_type": "execute_result"
    }
   ],
   "source": [
    "space_parts['quantity'].sum()"
   ]
  },
  {
   "cell_type": "code",
   "execution_count": 76,
   "metadata": {
    "ExecuteTime": {
     "end_time": "2020-02-10T12:12:41.814518Z",
     "start_time": "2020-02-10T12:12:41.805023Z"
    }
   },
   "outputs": [],
   "source": [
    "space_parts_qty = space_parts.groupby('part_num')['quantity'].sum()"
   ]
  },
  {
   "cell_type": "code",
   "execution_count": 79,
   "metadata": {
    "ExecuteTime": {
     "end_time": "2020-02-10T12:17:51.237878Z",
     "start_time": "2020-02-10T12:17:51.231823Z"
    }
   },
   "outputs": [],
   "source": [
    "space_parts_qty = space_parts_qty.sort_values(ascending=False)"
   ]
  },
  {
   "cell_type": "code",
   "execution_count": 80,
   "metadata": {
    "ExecuteTime": {
     "end_time": "2020-02-10T12:17:59.980374Z",
     "start_time": "2020-02-10T12:17:59.972093Z"
    }
   },
   "outputs": [
    {
     "data": {
      "text/plain": [
       "part_num\n",
       "3023     841.0\n",
       "6141     691.0\n",
       "3004     569.0\n",
       "3024     468.0\n",
       "3710     379.0\n",
       "3941     363.0\n",
       "3020     354.0\n",
       "3022     340.0\n",
       "4589     293.0\n",
       "3957a    261.0\n",
       "Name: quantity, dtype: float64"
      ]
     },
     "execution_count": 80,
     "metadata": {},
     "output_type": "execute_result"
    }
   ],
   "source": [
    "space_parts_qty.head(10)"
   ]
  },
  {
   "attachments": {
    "3004.jpg": {
     "image/jpeg": "[encoded data removed]"
    },
    "3020.jpg": {
     "image/jpeg": "[encoded data removed]"
    },
    "3022.jpg": {
     "image/jpeg": "[encoded data removed]"
    },
    "3023.jpg": {
     "image/jpeg": "[encoded data removed]"
    },
    "3024.jpg": {
     "image/jpeg": "[encoded data removed]"
    },
    "3710.jpg": {
     "image/jpeg": "[encoded data removed]"
    },
    "3941.jpg": {
     "image/jpeg": "[encoded data removed]"
    },
    "3957a.png": {
     "image/png": "[encoded data removed]"
    },
    "4589.jpg": {
     "image/jpeg": "[encoded data removed]"
    },
    "6141.jpg": {
     "image/jpeg": "[encoded data removed]"
    }
   },
   "cell_type": "markdown",
   "metadata": {},
   "source": [
    "Here's our top 10 parts for space sets, with a high frequencies for the first four elements.\n",
    "What are those parts ?\n",
    "\n",
    "Here they are !\n",
    "![3023.jpg](attachment:3023.jpg)![6141.jpg](attachment:6141.jpg)![3004.jpg](attachment:3004.jpg)\n",
    "![3024.jpg](attachment:3024.jpg)![3710.jpg](attachment:3710.jpg)![3941.jpg](attachment:3941.jpg)\n",
    "![3020.jpg](attachment:3020.jpg)![3022.jpg](attachment:3022.jpg)![4589.jpg](attachment:4589.jpg)\n",
    "![3957a.png](attachment:3957a.png)"
   ]
  },
  {
   "cell_type": "code",
   "execution_count": 89,
   "metadata": {
    "ExecuteTime": {
     "end_time": "2020-02-10T12:35:02.662991Z",
     "start_time": "2020-02-10T12:35:02.465144Z"
    }
   },
   "outputs": [
    {
     "data": {
      "image/png": "[encoded data removed]",
      "text/plain": [
       "<Figure size 432x288 with 1 Axes>"
      ]
     },
     "metadata": {
      "needs_background": "light"
     },
     "output_type": "display_data"
    }
   ],
   "source": [
    "space_parts_qty.plot(kind='area')\n",
    "plt.show()"
   ]
  },
  {
   "cell_type": "code",
   "execution_count": 90,
   "metadata": {
    "ExecuteTime": {
     "end_time": "2020-02-10T12:35:33.736731Z",
     "start_time": "2020-02-10T12:35:33.721571Z"
    }
   },
   "outputs": [
    {
     "data": {
      "text/plain": [
       "count    1119.000000\n",
       "mean       21.462020\n",
       "std        57.843136\n",
       "min         1.000000\n",
       "25%         2.000000\n",
       "50%         4.000000\n",
       "75%        14.000000\n",
       "max       841.000000\n",
       "Name: quantity, dtype: float64"
      ]
     },
     "execution_count": 90,
     "metadata": {},
     "output_type": "execute_result"
    }
   ],
   "source": [
    "space_parts_qty.describe()"
   ]
  },
  {
   "cell_type": "markdown",
   "metadata": {},
   "source": [
    "Here are the insights from Space sets parts :\n",
    "  * 1119 different parts for a 24016 parts in total (!!!)\n",
    "  * The mean is almost 22 pieces of each part, but\n",
    "  * ... for half of each part, it's only 4 pieces of each (50th percentile)\n",
    "  \n",
    "It's time to have a look upon the whole LEGO collection !"
   ]
  },
  {
   "cell_type": "markdown",
   "metadata": {},
   "source": [
    "## LEGO collection Data Analysis"
   ]
  },
  {
   "cell_type": "code",
   "execution_count": 92,
   "metadata": {
    "ExecuteTime": {
     "end_time": "2020-02-11T12:06:44.985738Z",
     "start_time": "2020-02-11T12:06:44.931961Z"
    }
   },
   "outputs": [
    {
     "data": {
      "text/plain": [
       "count    15443.000000\n",
       "mean       159.970019\n",
       "std        356.302715\n",
       "min          0.000000\n",
       "25%          9.000000\n",
       "50%         43.000000\n",
       "75%        157.000000\n",
       "max       9988.000000\n",
       "Name: num_parts, dtype: float64"
      ]
     },
     "execution_count": 92,
     "metadata": {},
     "output_type": "execute_result"
    }
   ],
   "source": [
    "lego_sets['num_parts'].describe()"
   ]
  },
  {
   "cell_type": "markdown",
   "metadata": {},
   "source": [
    "As we can see, there have been 15,443 sets released, with a mean of 160 parts per set.\n",
    "The bigger LEGO set ever made has almost 10,000 parts !!!"
   ]
  },
  {
   "cell_type": "markdown",
   "metadata": {},
   "source": [
    "We don't need the sets that have no parts in our analysis"
   ]
  },
  {
   "cell_type": "code",
   "execution_count": 103,
   "metadata": {
    "ExecuteTime": {
     "end_time": "2020-02-11T12:13:59.484757Z",
     "start_time": "2020-02-11T12:13:59.254259Z"
    }
   },
   "outputs": [
    {
     "data": {
      "image/png": "[encoded data removed]",
      "text/plain": [
       "<Figure size 432x288 with 1 Axes>"
      ]
     },
     "metadata": {
      "needs_background": "light"
     },
     "output_type": "display_data"
    }
   ],
   "source": [
    "lego_sets[lego_sets['num_parts'] > 0]['num_parts'].plot.hist(bins=25)\n",
    "plt.show()"
   ]
  },
  {
   "cell_type": "code",
   "execution_count": 124,
   "metadata": {
    "ExecuteTime": {
     "end_time": "2020-02-11T12:23:36.126873Z",
     "start_time": "2020-02-11T12:23:36.109161Z"
    }
   },
   "outputs": [],
   "source": [
    "themed_sets = lego_sets[lego_sets['num_parts'] > 0].merge(lego_themes, how='inner', left_on='theme_id', right_on='id', suffixes=('_set', '_theme'))"
   ]
  },
  {
   "cell_type": "code",
   "execution_count": 162,
   "metadata": {
    "ExecuteTime": {
     "end_time": "2020-02-11T12:43:21.471559Z",
     "start_time": "2020-02-11T12:43:21.463307Z"
    }
   },
   "outputs": [],
   "source": [
    "sets_by_theme = themed_sets.groupby('theme_id')['set_num'].count()"
   ]
  },
  {
   "cell_type": "code",
   "execution_count": 165,
   "metadata": {
    "ExecuteTime": {
     "end_time": "2020-02-11T12:45:06.335058Z",
     "start_time": "2020-02-11T12:45:06.329160Z"
    }
   },
   "outputs": [],
   "source": [
    "sets_by_theme = sets_by_theme.sort_values(axis=0)"
   ]
  },
  {
   "cell_type": "code",
   "execution_count": 169,
   "metadata": {
    "ExecuteTime": {
     "end_time": "2020-02-11T12:46:07.099771Z",
     "start_time": "2020-02-11T12:46:06.900252Z"
    }
   },
   "outputs": [
    {
     "data": {
      "image/png": "[encoded data removed]",
      "text/plain": [
       "<Figure size 432x288 with 1 Axes>"
      ]
     },
     "metadata": {
      "needs_background": "light"
     },
     "output_type": "display_data"
    }
   ],
   "source": [
    "sets_by_theme.plot(kind='hist')\n",
    "plt.show()"
   ]
  },
  {
   "cell_type": "code",
   "execution_count": 170,
   "metadata": {
    "ExecuteTime": {
     "end_time": "2020-02-11T12:47:08.648949Z",
     "start_time": "2020-02-11T12:47:08.640259Z"
    }
   },
   "outputs": [],
   "source": [
    "sets_by_year = themed_sets.groupby('year')['set_num'].count()"
   ]
  },
  {
   "cell_type": "code",
   "execution_count": 171,
   "metadata": {
    "ExecuteTime": {
     "end_time": "2020-02-11T12:47:35.360190Z",
     "start_time": "2020-02-11T12:47:34.481483Z"
    },
    "scrolled": true
   },
   "outputs": [
    {
     "data": {
      "image/png": "[encoded data removed]",
      "text/plain": [
       "<Figure size 432x288 with 1 Axes>"
      ]
     },
     "metadata": {
      "needs_background": "light"
     },
     "output_type": "display_data"
    }
   ],
   "source": [
    "sets_by_year.plot(kind='bar')\n",
    "plt.show()"
   ]
  },
  {
   "cell_type": "markdown",
   "metadata": {},
   "source": [
    "LEGO tends to release more sets each year"
   ]
  },
  {
   "cell_type": "code",
   "execution_count": 144,
   "metadata": {
    "ExecuteTime": {
     "end_time": "2020-02-11T12:34:51.171154Z",
     "start_time": "2020-02-11T12:34:51.163698Z"
    }
   },
   "outputs": [],
   "source": [
    "parts_mean_by_theme = themed_sets.groupby('theme_id')['num_parts'].mean()"
   ]
  },
  {
   "cell_type": "code",
   "execution_count": 145,
   "metadata": {
    "ExecuteTime": {
     "end_time": "2020-02-11T12:34:57.026940Z",
     "start_time": "2020-02-11T12:34:51.602014Z"
    }
   },
   "outputs": [
    {
     "data": {
      "image/png": "[encoded data removed]",
      "text/plain": [
       "<Figure size 432x288 with 1 Axes>"
      ]
     },
     "metadata": {
      "needs_background": "light"
     },
     "output_type": "display_data"
    }
   ],
   "source": [
    "parts_mean_by_theme.plot(kind='bar', x='theme_id', y='num_parts')\n",
    "plt.show()"
   ]
  },
  {
   "cell_type": "markdown",
   "metadata": {},
   "source": [
    "The `num_parts` distribution by theme is really uneven. Some themes have a large means, others have very low number of parts."
   ]
  },
  {
   "cell_type": "code",
   "execution_count": 146,
   "metadata": {
    "ExecuteTime": {
     "end_time": "2020-02-11T12:34:57.032594Z",
     "start_time": "2020-02-11T12:34:57.028810Z"
    }
   },
   "outputs": [],
   "source": [
    "parts_mean_by_year = themed_sets.groupby('year')['num_parts'].mean()"
   ]
  },
  {
   "cell_type": "code",
   "execution_count": 147,
   "metadata": {
    "ExecuteTime": {
     "end_time": "2020-02-11T12:34:57.038726Z",
     "start_time": "2020-02-11T12:34:57.034378Z"
    }
   },
   "outputs": [
    {
     "data": {
      "text/plain": [
       "year\n",
       "1949    99.600000\n",
       "1950     1.000000\n",
       "1953    18.000000\n",
       "1954    12.357143\n",
       "1955    37.962963\n",
       "Name: num_parts, dtype: float64"
      ]
     },
     "execution_count": 147,
     "metadata": {},
     "output_type": "execute_result"
    }
   ],
   "source": [
    "parts_mean_by_year.head()"
   ]
  },
  {
   "cell_type": "code",
   "execution_count": 148,
   "metadata": {
    "ExecuteTime": {
     "end_time": "2020-02-11T12:34:57.236729Z",
     "start_time": "2020-02-11T12:34:57.040342Z"
    }
   },
   "outputs": [
    {
     "data": {
      "image/png": "[encoded data removed]",
      "text/plain": [
       "<Figure size 432x288 with 1 Axes>"
      ]
     },
     "metadata": {
      "needs_background": "light"
     },
     "output_type": "display_data"
    },
    {
     "data": {
      "image/png": "[encoded data removed]",
      "text/plain": [
       "<Figure size 432x288 with 1 Axes>"
      ]
     },
     "metadata": {
      "needs_background": "light"
     },
     "output_type": "display_data"
    }
   ],
   "source": [
    "parts_mean_by_year.plot(kind='box')\n",
    "plt.show()\n",
    "parts_mean_by_year.plot(kind='line')\n",
    "plt.show()"
   ]
  },
  {
   "cell_type": "markdown",
   "metadata": {},
   "source": [
    "The sets tend to be larger over the years"
   ]
  },
  {
   "cell_type": "markdown",
   "metadata": {},
   "source": [
    "## LEGO essential parts !"
   ]
  },
  {
   "cell_type": "code",
   "execution_count": 172,
   "metadata": {
    "ExecuteTime": {
     "end_time": "2020-02-11T12:51:27.724986Z",
     "start_time": "2020-02-11T12:51:27.698413Z"
    }
   },
   "outputs": [],
   "source": [
    "collection_inventories = lego_sets.merge(inventories, how='inner', left_on='set_num', right_on='set_num')"
   ]
  },
  {
   "cell_type": "code",
   "execution_count": 173,
   "metadata": {
    "ExecuteTime": {
     "end_time": "2020-02-11T12:52:49.288223Z",
     "start_time": "2020-02-11T12:52:48.565128Z"
    }
   },
   "outputs": [
    {
     "name": "stderr",
     "output_type": "stream",
     "text": [
      "/home/jupyter/anaconda3/envs/python3/lib/python3.7/site-packages/ipykernel_launcher.py:1: FutureWarning: \n",
      "Passing list-likes to .loc or [] with any missing label will raise\n",
      "KeyError in the future, you can use .reindex() as an alternative.\n",
      "\n",
      "See the documentation here:\n",
      "https://pandas.pydata.org/pandas-docs/stable/indexing.html#deprecate-loc-reindex-listlike\n",
      "  \"\"\"Entry point for launching an IPython kernel.\n"
     ]
    }
   ],
   "source": [
    "collection_parts = inventories_parts.loc[collection_inventories['id']]"
   ]
  },
  {
   "cell_type": "code",
   "execution_count": 174,
   "metadata": {
    "ExecuteTime": {
     "end_time": "2020-02-11T12:53:39.571746Z",
     "start_time": "2020-02-11T12:53:39.314108Z"
    }
   },
   "outputs": [],
   "source": [
    "collection_parts = collection_parts.merge(colors, how='inner', left_on='color_id', right_on='id', suffixes=('_set', '_color'))"
   ]
  },
  {
   "cell_type": "code",
   "execution_count": 175,
   "metadata": {
    "ExecuteTime": {
     "end_time": "2020-02-11T12:54:14.839872Z",
     "start_time": "2020-02-11T12:54:14.538717Z"
    }
   },
   "outputs": [],
   "source": [
    "collection_parts = collection_parts.merge(parts, how='inner', left_on='part_num', right_on='part_num', suffixes=('_color', '_part'))"
   ]
  },
  {
   "cell_type": "code",
   "execution_count": 177,
   "metadata": {
    "ExecuteTime": {
     "end_time": "2020-02-11T12:54:43.917116Z",
     "start_time": "2020-02-11T12:54:43.610405Z"
    }
   },
   "outputs": [],
   "source": [
    "collection_parts = collection_parts.drop(['color_id', 'id', 'part_cat_id', 'part_material_id'], axis=1)"
   ]
  },
  {
   "cell_type": "code",
   "execution_count": 178,
   "metadata": {
    "ExecuteTime": {
     "end_time": "2020-02-11T12:55:24.196285Z",
     "start_time": "2020-02-11T12:55:24.075286Z"
    }
   },
   "outputs": [],
   "source": [
    "collection_parts_qty = collection_parts.groupby('part_num')['quantity'].sum()"
   ]
  },
  {
   "cell_type": "code",
   "execution_count": 179,
   "metadata": {
    "ExecuteTime": {
     "end_time": "2020-02-11T12:55:39.941102Z",
     "start_time": "2020-02-11T12:55:39.927792Z"
    }
   },
   "outputs": [],
   "source": [
    "collection_parts_qty = collection_parts_qty.sort_values(ascending=False)"
   ]
  },
  {
   "cell_type": "code",
   "execution_count": 181,
   "metadata": {
    "ExecuteTime": {
     "end_time": "2020-02-11T12:55:52.783529Z",
     "start_time": "2020-02-11T12:55:52.775985Z"
    }
   },
   "outputs": [
    {
     "data": {
      "text/plain": [
       "part_num\n",
       "3023    81723.0\n",
       "3004    79286.0\n",
       "6141    71821.0\n",
       "3024    62593.0\n",
       "3005    56464.0\n",
       "2780    55531.0\n",
       "3003    47241.0\n",
       "3710    38053.0\n",
       "3010    34884.0\n",
       "3001    33564.0\n",
       "Name: quantity, dtype: float64"
      ]
     },
     "execution_count": 181,
     "metadata": {},
     "output_type": "execute_result"
    }
   ],
   "source": [
    "collection_parts_qty.head(10)"
   ]
  },
  {
   "attachments": {
    "2780.jpg": {
     "image/jpeg": "[encoded data removed]"
    },
    "3001.jpg": {
     "image/jpeg": "[encoded data removed]"
    },
    "3003.jpg": {
     "image/jpeg": "[encoded data removed]"
    },
    "3005.jpg": {
     "image/jpeg": "[encoded data removed]"
    },
    "3010.jpg": {
     "image/jpeg": "[encoded data removed]"
    }
   },
   "cell_type": "markdown",
   "metadata": {},
   "source": [
    "Parts `3023`, `3004`, `6141`, `3024` and `3710` are common with Space theme top 10 parts.\n",
    "Here are the LEGO essentials 5 other parts :\n",
    "![3005.jpg](attachment:3005.jpg)![2780.jpg](attachment:2780.jpg)![3003.jpg](attachment:3003.jpg)\n",
    "![3010.jpg](attachment:3010.jpg)![3001.jpg](attachment:3001.jpg)"
   ]
  },
  {
   "cell_type": "markdown",
   "metadata": {},
   "source": [
    "# Final thoughts\n",
    "There are many ways to analyze this LEGO data, and i guess i only scratched its surface.\n",
    "When i'll get some more knowledge on Data Analysis, i will sure get back on a new LEGO Data Analysis with new insights to show."
   ]
  },
  {
   "cell_type": "code",
   "execution_count": null,
   "metadata": {},
   "outputs": [],
   "source": []
  }
 ],
 "metadata": {
  "kernelspec": {
   "display_name": "Python 3",
   "language": "python",
   "name": "python3"
  },
  "language_info": {
   "codemirror_mode": {
    "name": "ipython",
    "version": 3
   },
   "file_extension": ".py",
   "mimetype": "text/x-python",
   "name": "python",
   "nbconvert_exporter": "python",
   "pygments_lexer": "ipython3",
   "version": "3.7.3"
  }
 },
 "nbformat": 4,
 "nbformat_minor": 2
}
